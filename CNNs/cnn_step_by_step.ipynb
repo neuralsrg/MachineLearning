{
  "nbformat": 4,
  "nbformat_minor": 0,
  "metadata": {
    "colab": {
      "name": "cnn_step_by_step.ipynb",
      "provenance": [],
      "toc_visible": true,
      "authorship_tag": "ABX9TyNxQgc43HOTC7KpQBOnkMx+",
      "include_colab_link": true
    },
    "kernelspec": {
      "name": "python3",
      "display_name": "Python 3"
    },
    "language_info": {
      "name": "python"
    },
    "gpuClass": "standard"
  },
  "cells": [
    {
      "cell_type": "markdown",
      "metadata": {
        "id": "view-in-github",
        "colab_type": "text"
      },
      "source": [
        "<a href=\"https://colab.research.google.com/github/neuralsrg/SupervisedLearning/blob/main/CNNs/cnn_step_by_step.ipynb\" target=\"_parent\"><img src=\"https://colab.research.google.com/assets/colab-badge.svg\" alt=\"Open In Colab\"/></a>"
      ]
    },
    {
      "cell_type": "markdown",
      "source": [
        "# CNN | Manual Implementation"
      ],
      "metadata": {
        "id": "7y455769zQ5O"
      }
    },
    {
      "cell_type": "code",
      "source": [
        "import numpy as np\n",
        "import h5py\n",
        "import matplotlib.pyplot as plt\n",
        "\n",
        "%matplotlib inline\n",
        "plt.rcParams['figure.figsize'] = (5.0, 4.0)\n",
        "plt.rcParams['image.interpolation'] = 'nearest'\n",
        "plt.rcParams['image.cmap'] = 'gray'\n",
        "\n",
        "%load_ext autoreload\n",
        "%autoreload 2\n",
        "\n",
        "np.random.seed(1)"
      ],
      "metadata": {
        "id": "_bE2RT5CzPt-"
      },
      "execution_count": 2,
      "outputs": []
    },
    {
      "cell_type": "markdown",
      "source": [
        "## Padding"
      ],
      "metadata": {
        "id": "3ZLuFuLw9Nw-"
      }
    },
    {
      "cell_type": "code",
      "source": [
        "def zero_pad(X, pad):\n",
        "  '''\n",
        "  Give the dataset tensor of the shape (n_samples, n_h, n_w, n_channels), pad\n",
        "  all images with a given pad.\n",
        "  \n",
        "  Argument:\n",
        "  X -- ndarray of shape e (n_samples, n_h, n_w, n_channels)\n",
        "  pad -- padding size\n",
        "\n",
        "  Returns:\n",
        "  X_pad -- padded dataset of shape\n",
        "    (n_samples, n_h + 2*pad, n_w + 2*pad, n_channels)\n",
        "  '''\n",
        "\n",
        "  return np.pad(X, ((0, 0), (pad, pad), (pad, pad), (0, 0)), mode='constant',\n",
        "                constant_values=(0, 0))\n",
        "  \n",
        "# testing\n",
        "\n",
        "x = np.random.rand(1, 3, 3, 1)\n",
        "x_pad = zero_pad(x, pad=3)\n",
        "\n",
        "fig, axes = plt.subplots(1, 2)\n",
        "\n",
        "axes[0].set_title('x')\n",
        "axes[0].imshow(x[0, :, :, 0])\n",
        "\n",
        "axes[1].set_title('x_pad')\n",
        "axes[1].imshow(x_pad[0, :, :, 0])"
      ],
      "metadata": {
        "colab": {
          "base_uri": "https://localhost:8080/",
          "height": 208
        },
        "id": "BiGOvzG4zaR-",
        "outputId": "a51e6bed-1ba2-45b3-d6de-6cf0712dbb92"
      },
      "execution_count": 7,
      "outputs": [
        {
          "output_type": "execute_result",
          "data": {
            "text/plain": [
              "<matplotlib.image.AxesImage at 0x7f364c882b90>"
            ]
          },
          "metadata": {},
          "execution_count": 7
        },
        {
          "output_type": "display_data",
          "data": {
            "text/plain": [
              "<Figure size 360x288 with 2 Axes>"
            ],
            "image/png": "[encoded data removed]"
          },
          "metadata": {
            "needs_background": "light"
          }
        }
      ]
    },
    {
      "cell_type": "markdown",
      "source": [
        "## Forward pass"
      ],
      "metadata": {
        "id": "zPV8lHHm9Ruf"
      }
    },
    {
      "cell_type": "code",
      "source": [
        "def conv_single_step(a, W, b):\n",
        "  '''\n",
        "  Applies convolution for a and filter defined by W\n",
        "\n",
        "  Arguments:\n",
        "  a -- slice of input data of shape (f, f, n_C_prev)\n",
        "  W -- weight matrix of shape (f, f, n_C_prev)\n",
        "  b -- bias patameter\n",
        "\n",
        "  Returns:\n",
        "  Z -- scalar value, the result of one-step convolution\n",
        "  '''\n",
        "\n",
        "  Z = np.sum(np.multiply(a, W))\n",
        "  return Z + np.squeeze(b)"
      ],
      "metadata": {
        "id": "avNaAPhw2a9j"
      },
      "execution_count": 9,
      "outputs": []
    },
    {
      "cell_type": "code",
      "source": [
        "def conv(A_prev, W, b, params={'pad' : 0, 'stride' : 1}):\n",
        "  '''\n",
        "  Computes convolution of A_pred with filter defined by W\n",
        "\n",
        "  Arguments:\n",
        "  A_prev -- activation tensor from the previous layer of shape\n",
        "    (n_samples, n_h, n_w, n_channels)\n",
        "  W -- weights, numpy array of shape (f, f, n_C_prev, n_C)\n",
        "  b -- biases, numpy array of shape (1, 1, 1, n_C)\n",
        "  params -- python dictionary containing 'pad' & 'stride' sizes\n",
        "\n",
        "  Returns: \n",
        "  Z -- convolution output \n",
        "  cache -- information for backprop\n",
        "  '''\n",
        "\n",
        "  (m, n_H_prev, n_W_prev, n_C_prev) = A_prev.shape\n",
        "  (f, f, n_C_prev_check, n_C) = W.shape\n",
        "\n",
        "  assert n_C_prev == n_C_prev_check # must be equal\n",
        "\n",
        "  pad = params['pad']\n",
        "  stride = params['stride']\n",
        "  \n",
        "  n_H = np.floor((n_H_prev + 2*pad - f)/stride) + 1\n",
        "  n_W = np.floor((n_W_prev + 2*pad - f)/stride) + 1\n",
        "\n",
        "  # output volume \n",
        "  Z = np.zeros((m, n_H, n_W, n_C))\n",
        "\n",
        "  # Create A_prev_pad by padding A_prev\n",
        "  A_prev_pad = zero_pad(A_prev, pad)\n",
        "\n",
        "  for i in range(m):               # loop over the batch of training examples\n",
        "    a_prev_pad = A_prev_pad[i]     # Select i-th training example's padded activation\n",
        "\n",
        "    for h in range(n_H):           # loop over vertical axis of the output volume\n",
        "      # Find the vertical start and end of the current \"slice\" (≈2 lines)\n",
        "      vert_start = stride * h \n",
        "      vert_end = vert_start  + f\n",
        "      \n",
        "      for w in range(n_W):       # loop over horizontal axis of the output volume\n",
        "        # Find the horizontal start and end of the current \"slice\" (≈2 lines)\n",
        "        horiz_start = stride * w\n",
        "        horiz_end = horiz_start + f\n",
        "        \n",
        "        for c in range(n_C):   # loop over channels (= #filters) of the output volume\n",
        "                                \n",
        "          # Use the corners to define the (3D) slice of a_prev_pad (See Hint above the cell). (≈1 line)\n",
        "          a_slice_prev = a_prev_pad[vert_start:vert_end,horiz_start:horiz_end,:]\n",
        "          \n",
        "          # Convolve the (3D) slice with the correct filter W and bias b, to get back one output neuron. (≈3 line)\n",
        "          weights = W[:, :, :, c]\n",
        "          biases  = b[:, :, :, c]\n",
        "          Z[i, h, w, c] = conv_single_step(a_slice_prev, weights, biases)\n",
        "\n",
        "  # Save information in \"cache\" for the backprop\n",
        "  cache = (A_prev, W, b, params)\n",
        "\n",
        "  return Z, cache"
      ],
      "metadata": {
        "id": "Z7dIrhUS5pKh"
      },
      "execution_count": 11,
      "outputs": []
    },
    {
      "cell_type": "markdown",
      "source": [
        "## Pooling "
      ],
      "metadata": {
        "id": "zo7fEsdD9a4P"
      }
    },
    {
      "cell_type": "code",
      "source": [
        "def pool_forward(A_prev, params, mode=\"max\"):\n",
        "  \"\"\"\n",
        "  Implements the forward pass of the pooling layer\n",
        "  \n",
        "  Arguments:\n",
        "  A_prev -- Input data, numpy array of shape (m, n_H_prev, n_W_prev, n_C_prev)\n",
        "  params -- python dictionary containing \"f\" and \"stride\"\n",
        "  mode -- the pooling mode you would like to use, defined as a string (\"max\" or \"average\")\n",
        "  \n",
        "  Returns:\n",
        "  A -- output of the pool layer, a numpy array of shape (m, n_H, n_W, n_C)\n",
        "  cache -- cache used in the backward pass of the pooling layer, contains the input and hparameters \n",
        "  \"\"\"\n",
        "  \n",
        "  (m, n_H_prev, n_W_prev, n_C_prev) = A_prev.shape\n",
        "\n",
        "  f = params[\"f\"]\n",
        "  stride = params[\"stride\"]\n",
        "\n",
        "  n_H = np.floor(1 + (n_H_prev - f) / stride)\n",
        "  n_W = np.floor(1 + (n_W_prev - f) / stride)\n",
        "  n_C = n_C_prev\n",
        "  \n",
        "  A = np.zeros((m, n_H, n_W, n_C))              \n",
        "  \n",
        "  for i in range(m):                         # loop over the training examples\n",
        "    a_prev_slice = A_prev[i]\n",
        "\n",
        "    for h in range(n_H):                     # loop on the vertical axis of the output volume\n",
        "      # Find the vertical start and end of the current \"slice\" (≈2 lines)\n",
        "      vert_start = stride * h \n",
        "      vert_end = vert_start + f\n",
        "      \n",
        "      for w in range(n_W):                 # loop on the horizontal axis of the output volume\n",
        "        # Find the vertical start and end of the current \"slice\" (≈2 lines)\n",
        "        horiz_start = stride * w\n",
        "        horiz_end = horiz_start + f\n",
        "        \n",
        "        for c in range (n_C):            # loop over the channels of the output volume\n",
        "          \n",
        "          # Use the corners to define the current slice on the ith training example of A_prev, channel c. (≈1 line)\n",
        "          a_slice_prev = a_prev_slice[vert_start:vert_end, horiz_start:horiz_end, c]\n",
        "          \n",
        "          # Compute the pooling operation on the slice. \n",
        "          # Use an if statement to differentiate the modes. \n",
        "          # Use np.max and np.mean.\n",
        "          if mode == \"max\":\n",
        "            A[i, h, w, c] = np.max(a_slice_prev)\n",
        "          elif mode == \"average\":\n",
        "            A[i, h, w, c] = np.mean(a_slice_prev)\n",
        "          else:\n",
        "            print(mode+ \"-type pooling layer NOT Defined\")    \n",
        "  \n",
        "  # Store the input and hparameters in \"cache\" for pool_backward()\n",
        "  cache = (A_prev, params)\n",
        "  \n",
        "  # Making sure your output shape is correct\n",
        "  assert(A.shape == (m, n_H, n_W, n_C))\n",
        "  \n",
        "  return A, cache"
      ],
      "metadata": {
        "id": "oZxp_o6X9KYq"
      },
      "execution_count": 12,
      "outputs": []
    },
    {
      "cell_type": "markdown",
      "source": [
        "## Backpropagation"
      ],
      "metadata": {
        "id": "PzbJn4nwQiw7"
      }
    },
    {
      "cell_type": "markdown",
      "source": [
        "### Weights, biases\n",
        "\n",
        "Forward pass: $ Z_{HW} = [X_{HW} * W + b_C] $\n",
        "\n",
        "$ L = f(Z_{00}, ..., Z_{HW}); \\frac{\\partial{Z_{HW}}}{\\partial{b_C}} = 1 $\n",
        "\n",
        "For each channel: $ db_C = \\sum_{h}\\sum_{w}dZ_{HW} $"
      ],
      "metadata": {
        "id": "S4utY_kKI3kg"
      }
    },
    {
      "cell_type": "code",
      "source": [
        "def conv_backward(dZ, cache):\n",
        "  '''\n",
        "  Backward propagation for a convolution function\n",
        "  \n",
        "  Arguments:\n",
        "  dZ -- gradient of the cost with respect to the output of the conv layer (Z), numpy array of shape (m, n_H, n_W, n_C)\n",
        "  cache -- cache of values needed for the conv_backward(), output of conv()\n",
        "  \n",
        "  Returns:\n",
        "  dA_prev -- gradient of the cost with respect to the input of the conv layer (A_prev),\n",
        "              numpy array of shape (m, n_H_prev, n_W_prev, n_C_prev)\n",
        "  dW -- gradient of the cost with respect to the weights of the conv layer (W)\n",
        "        numpy array of shape (f, f, n_C_prev, n_C)\n",
        "  db -- gradient of the cost with respect to the biases of the conv layer (b)\n",
        "        numpy array of shape (1, 1, 1, n_C)\n",
        "  '''\n",
        "\n",
        "  (A_prev, W, b, params) = cache\n",
        "  (m, n_H_prev, n_W_prev, n_C_prev) = A_prev.shape\n",
        "  (f, f, n_C_prev_check, n_C) = W.shape\n",
        "\n",
        "  assert n_C_prev == n_C_prev_check\n",
        "  \n",
        "  pad = params[\"pad\"]\n",
        "  stride = params[\"stride\"]\n",
        "  \n",
        "  (m, n_H, n_W, n_C) = dZ.shape\n",
        "  \n",
        "  # Initialize dA_prev, dW, db with the correct shapes\n",
        "  dA_prev = np.zeros(A_prev.shape)                          \n",
        "  dW = np.zeros(W.shape)\n",
        "  db = np.zeros(b.shape) # b.shape = [1,1,1,n_C]\n",
        "  \n",
        "  # Pad A_prev and dA_prev\n",
        "  A_prev_pad = zero_pad(A_prev, pad)\n",
        "  dA_prev_pad = zero_pad(dA_prev, pad)\n",
        "  \n",
        "  for i in range(m):                   # loop over the training examples\n",
        "      \n",
        "    # select ith training example from A_prev_pad and dA_prev_pad\n",
        "    a_prev_pad = A_prev_pad[i]\n",
        "    da_prev_pad = dA_prev_pad[i]\n",
        "    \n",
        "    for h in range(n_H):               # loop over vertical axis of the output volume\n",
        "      for w in range(n_W):             # loop over horizontal axis of the output volume\n",
        "        for c in range(n_C):           # loop over the channels of the output volume\n",
        "            \n",
        "          # Find the corners of the current \"slice\"\n",
        "          vert_start = stride * h \n",
        "          vert_end = vert_start + f\n",
        "          horiz_start = stride * w\n",
        "          horiz_end = horiz_start + f\n",
        "\n",
        "          # Use the corners to define the slice from a_prev_pad\n",
        "          a_slice = a_prev_pad[vert_start:vert_end,horiz_start:horiz_end,:]\n",
        "\n",
        "          # Update gradients for the window and the filter's parameters using the code formulas given above\n",
        "          da_prev_pad[vert_start:vert_end, horiz_start:horiz_end, :] += W[:,:,:,c] * dZ[i, h, w, c]\n",
        "          dW[:,:,:,c] += a_slice * dZ[i, h, w, c]\n",
        "          db[:,:,:,c] += dZ[i, h, w, c]\n",
        "                \n",
        "    # Set the ith training example's dA_prev to the unpadded da_prev_pad (Hint: use X[pad:-pad, pad:-pad, :])\n",
        "    dA_prev[i, :, :, :] = da_prev_pad[pad:-pad, pad:-pad, :]\n",
        "  \n",
        "  # Making sure your output shape is correct\n",
        "  assert(dA_prev.shape == (m, n_H_prev, n_W_prev, n_C_prev))\n",
        "  \n",
        "  return dA_prev, dW, db"
      ],
      "metadata": {
        "id": "AYfhhSsW-viz"
      },
      "execution_count": null,
      "outputs": []
    },
    {
      "cell_type": "markdown",
      "source": [
        "### Pooling "
      ],
      "metadata": {
        "id": "oQOp-pD_Qj2R"
      }
    },
    {
      "cell_type": "markdown",
      "source": [
        "#### Max Pool"
      ],
      "metadata": {
        "id": "6ZOOBm6yQoM9"
      }
    },
    {
      "cell_type": "code",
      "source": [
        "# masks max element in the matrix\n",
        "\n",
        "def create_mask_from_window(x):\n",
        "\n",
        "  return x == np.max(x)"
      ],
      "metadata": {
        "id": "yGvZ7pHtQmve"
      },
      "execution_count": null,
      "outputs": []
    },
    {
      "cell_type": "markdown",
      "source": [
        "#### Average Pool"
      ],
      "metadata": {
        "id": "3zddXqs8UxJv"
      }
    },
    {
      "cell_type": "code",
      "source": [
        "def distribute_value(dz, shape):\n",
        "  # Retrieve dimensions from shape (≈1 line)\n",
        "  (n_H, n_W) = shape\n",
        "  \n",
        "  # Compute the value to distribute on the matrix (≈1 line)\n",
        "  average = np.prod(shape)\n",
        "  \n",
        "  # Create a matrix where every entry is the \"average\" value (≈1 line)\n",
        "  a = (dz/average)*np.ones(shape)\n",
        "\n",
        "  return a"
      ],
      "metadata": {
        "id": "BYO-zQutU0Ou"
      },
      "execution_count": 13,
      "outputs": []
    },
    {
      "cell_type": "code",
      "source": [
        "def pool_backward(dA, cache, mode = \"max\"):\n",
        "  \"\"\"\n",
        "  Implements the backward pass of the pooling layer\n",
        "  \n",
        "  Arguments:\n",
        "  dA -- gradient of cost with respect to the output of the pooling layer, same shape as A\n",
        "  cache -- cache output from the forward pass of the pooling layer, contains the layer's input and hparameters \n",
        "  mode -- the pooling mode you would like to use, defined as a string (\"max\" or \"average\")\n",
        "  \n",
        "  Returns:\n",
        "  dA_prev -- gradient of cost with respect to the input of the pooling layer, same shape as A_prev\n",
        "  \"\"\"\n",
        "  # Retrieve information from cache (≈1 line)\n",
        "  (A_prev, hparameters) = cache\n",
        "  \n",
        "  # Retrieve hyperparameters from \"hparameters\" (≈2 lines)\n",
        "  stride = hparameters[\"stride\"]\n",
        "  f = hparameters[\"f\"]\n",
        "  \n",
        "  # Retrieve dimensions from A_prev's shape and dA's shape (≈2 lines)\n",
        "  m, n_H_prev, n_W_prev, n_C_prev = A_prev.shape\n",
        "  m, n_H, n_W, n_C = dA.shape\n",
        "  \n",
        "  # Initialize dA_prev with zeros (≈1 line)\n",
        "  dA_prev = np.zeros(A_prev.shape)\n",
        "  \n",
        "  for i in range(m): # loop over the training examples\n",
        "      \n",
        "    # select training example from A_prev (≈1 line)\n",
        "    a_prev = A_prev[i,:,:,:]\n",
        "    \n",
        "    for h in range(n_H):               # loop on the vertical axis\n",
        "      for w in range(n_W):             # loop on the horizontal axis\n",
        "        for c in range(n_C):           # loop over the channels (depth)\n",
        "\n",
        "          # Find the corners of the current \"slice\" (≈4 lines)\n",
        "          vert_start  = h * stride\n",
        "          vert_end    = h * stride + f\n",
        "          horiz_start = w * stride\n",
        "          horiz_end   = w * stride + f\n",
        "          \n",
        "          # Compute the backward propagation in both modes.\n",
        "          if mode == \"max\":\n",
        "\n",
        "            a_prev_slice = a_prev[vert_start:vert_end, horiz_start:horiz_end, c]\n",
        "            \n",
        "            mask = create_mask_from_window( a_prev_slice )\n",
        "            dA_prev[i, vert_start:vert_end, horiz_start:horiz_end, c] += mask * dA[i, h, w, c]\n",
        "            \n",
        "          elif mode == \"average\":\n",
        "            \n",
        "            da = dA[i, h, w, c]\n",
        "            shape = (f, f)\n",
        "            dA_prev[i, vert_start: vert_end, horiz_start: horiz_end, c] += distribute_value(da, shape)\n",
        "\n",
        "  # Making sure your output shape is correct\n",
        "  assert(dA_prev.shape == A_prev.shape)\n",
        "  \n",
        "  return dA_prev"
      ],
      "metadata": {
        "id": "3_JmWeUEU6Lt"
      },
      "execution_count": 14,
      "outputs": []
    }
  ]
}