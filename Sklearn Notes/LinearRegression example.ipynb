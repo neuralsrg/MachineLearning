{
 "cells": [
  {
   "cell_type": "code",
   "execution_count": 2,
   "id": "f83add4f",
   "metadata": {},
   "outputs": [],
   "source": [
    "import numpy as np\n",
    "from sklearn.model_selection import train_test_split\n",
    "from sklearn import datasets\n",
    "import matplotlib.pyplot as plt"
   ]
  },
  {
   "cell_type": "code",
   "execution_count": 3,
   "id": "d882740d",
   "metadata": {
    "scrolled": false
   },
   "outputs": [
    {
     "data": {
      "image/png": "[encoded data removed]",
      "text/plain": [
       "<Figure size 576x432 with 1 Axes>"
      ]
     },
     "metadata": {
      "needs_background": "light"
     },
     "output_type": "display_data"
    }
   ],
   "source": [
    "X, y = datasets.make_regression(n_samples=100, n_features=1, noise=40, random_state=4)\n",
    "\n",
    "# Splits X to X_train and X_test; y to y_train, y_test\n",
    "X_train, X_test, y_train, y_test = train_test_split(X, y, test_size=0.2, random_state=1234)\n",
    "# X_train.shape = (80, 1), y_train.shape = (80,) - they are 'true' values\n",
    "# _test left for learning. _test is 20% of X, y as test_size=0.2\n",
    "\n",
    "fig = plt.figure(figsize=(8,6))\n",
    "plt.scatter(X[:, 0], y, color='b', marker='o', s=5)\n",
    "plt.show()"
   ]
  },
  {
   "cell_type": "markdown",
   "id": "664e59f3",
   "metadata": {},
   "source": [
    "##### Learning block"
   ]
  },
  {
   "cell_type": "code",
   "execution_count": 4,
   "id": "e34dbf16",
   "metadata": {},
   "outputs": [],
   "source": [
    "import numpy as np\n",
    "class LinearRegression:\n",
    "    \n",
    "    def __init__(self, lr=0.001, n_iters=1000):\n",
    "        self.lr = lr\n",
    "        self.n_iters = n_iters\n",
    "        self.weights = None\n",
    "        self.bias = None\n",
    "        \n",
    "    def fit(self, X, y):\n",
    "        # X - test parameters \n",
    "        # y - true values\n",
    "        # init parameters\n",
    "        n_samples, n_features = X.shape\n",
    "        self.weights = np.zeros(n_features)\n",
    "        self.bias = 0\n",
    "        \n",
    "        for _ in range(self.n_iters):\n",
    "            # X is nx1 matrix\n",
    "            # np.dot() goes in each row here\n",
    "            y_predicted = np.dot(X, self.weights) + self.bias\n",
    "            \n",
    "            # dL / dw\n",
    "            # We transpose X to go in columns \n",
    "            dw = (1 / n_samples) * np.dot(X.T, y_predicted - y)\n",
    "            db = (1 / n_samples) * np.sum(y_predicted - y)\n",
    "            \n",
    "            self.weights -= self.lr * dw\n",
    "            self.bias -= self.lr * db\n",
    "            \n",
    "    \n",
    "    # X is nx1 matrix. X.shape = (20, 1)\n",
    "    # So predict returns (20,) (vector)\n",
    "    def predict(self, X):\n",
    "        return np.dot(X, self.weights) + self.bias"
   ]
  },
  {
   "cell_type": "code",
   "execution_count": 5,
   "id": "65c05314",
   "metadata": {},
   "outputs": [
    {
     "name": "stdout",
     "output_type": "stream",
     "text": [
      "1223.0923343139614\n"
     ]
    }
   ],
   "source": [
    "regressor = LinearRegression(lr=0.01)\n",
    "regressor.fit(X_train, y_train)\n",
    "\n",
    "predicted = regressor.predict(X_test)\n",
    "\n",
    "def mse(y_true, y_predicted):\n",
    "    return np.mean((y_true - y_predicted)**2)\n",
    "\n",
    "# y_test are true values (y_true)\n",
    "mse_value = mse(y_test, predicted)\n",
    "print(mse_value)"
   ]
  },
  {
   "cell_type": "markdown",
   "id": "f9b06a20",
   "metadata": {},
   "source": [
    "##### Plot"
   ]
  },
  {
   "cell_type": "code",
   "execution_count": 59,
   "id": "644b5918",
   "metadata": {},
   "outputs": [
    {
     "data": {
      "image/png": "[encoded data removed]",
      "text/plain": [
       "<Figure size 576x432 with 1 Axes>"
      ]
     },
     "metadata": {
      "needs_background": "light"
     },
     "output_type": "display_data"
    }
   ],
   "source": [
    "y_pred_line = regressor.predict(X)\n",
    "cmap = plt.get_cmap('viridis')\n",
    "fig = plt.figure(figsize=(8,6))\n",
    "\n",
    "m1 = plt.scatter(X_train, y_train, color=cmap(0.9), s=5)\n",
    "m2 = plt.scatter(X_test, y_test, color=cmap(0.5), s=5)\n",
    "\n",
    "# Predicted line\n",
    "plt.plot(X, y_pred_line, color='black', linewidth=0.2, label='Prediction')\n",
    "plt.show()"
   ]
  }
 ],
 "metadata": {
  "kernelspec": {
   "display_name": "Python 3 (ipykernel)",
   "language": "python",
   "name": "python3"
  },
  "language_info": {
   "codemirror_mode": {
    "name": "ipython",
    "version": 3
   },
   "file_extension": ".py",
   "mimetype": "text/x-python",
   "name": "python",
   "nbconvert_exporter": "python",
   "pygments_lexer": "ipython3",
   "version": "3.8.10"
  }
 },
 "nbformat": 4,
 "nbformat_minor": 5
}
