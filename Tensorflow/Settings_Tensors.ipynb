{
  "nbformat": 4,
  "nbformat_minor": 0,
  "metadata": {
    "colab": {
      "name": "Settings_Tensors.ipynb",
      "provenance": [],
      "toc_visible": true,
      "collapsed_sections": [],
      "authorship_tag": "ABX9TyMjC/gDrX48I104S4oCiKul",
      "include_colab_link": true
    },
    "kernelspec": {
      "name": "python3",
      "display_name": "Python 3"
    },
    "language_info": {
      "name": "python"
    },
    "accelerator": "GPU",
    "gpuClass": "standard"
  },
  "cells": [
    {
      "cell_type": "markdown",
      "metadata": {
        "id": "view-in-github",
        "colab_type": "text"
      },
      "source": [
        "<a href=\"https://colab.research.google.com/github/neuralsrg/SupervisedLearning/blob/main/Tensorflow/Settings_Tensors.ipynb\" target=\"_parent\"><img src=\"https://colab.research.google.com/assets/colab-badge.svg\" alt=\"Open In Colab\"/></a>"
      ]
    },
    {
      "cell_type": "code",
      "source": [
        "!pip uninstall tensorflow"
      ],
      "metadata": {
        "id": "LDO5txVQwaaH"
      },
      "execution_count": null,
      "outputs": []
    },
    {
      "cell_type": "code",
      "source": [
        "!pip install tensorflow===2.3.0"
      ],
      "metadata": {
        "id": "pOaOc3LPwhjD"
      },
      "execution_count": null,
      "outputs": []
    },
    {
      "cell_type": "code",
      "source": [
        "!pip list"
      ],
      "metadata": {
        "id": "9gEB1Quxw3-A"
      },
      "execution_count": null,
      "outputs": []
    },
    {
      "cell_type": "code",
      "source": [
        "!pip install --upgrade tensorflow"
      ],
      "metadata": {
        "id": "Jjw2Lsson9GQ"
      },
      "execution_count": null,
      "outputs": []
    },
    {
      "cell_type": "markdown",
      "source": [
        "And after this we have to manage Runtime - Restart runtime"
      ],
      "metadata": {
        "id": "IVoYCq2MxU5Q"
      }
    },
    {
      "cell_type": "code",
      "source": [
        "import tensorflow as tf\n",
        "print(tf.__version__)"
      ],
      "metadata": {
        "colab": {
          "base_uri": "https://localhost:8080/"
        },
        "id": "BnYO5sfPyUqb",
        "outputId": "51191b0f-2a21-404e-dcbb-ea1d25e26150"
      },
      "execution_count": null,
      "outputs": [
        {
          "output_type": "stream",
          "name": "stdout",
          "text": [
            "2.8.2\n"
          ]
        }
      ]
    },
    {
      "cell_type": "markdown",
      "source": [
        "# Tensorflow"
      ],
      "metadata": {
        "id": "1Vin6xhUwJgY"
      }
    },
    {
      "cell_type": "markdown",
      "source": [
        "## Constants"
      ],
      "metadata": {
        "id": "AyoQcHd5wEhr"
      }
    },
    {
      "cell_type": "code",
      "source": [
        "scalar = tf.constant(7)\n",
        "# scalar.numpy() - to get the value\n",
        "scalar"
      ],
      "metadata": {
        "id": "puwBb6HQyoJy",
        "colab": {
          "base_uri": "https://localhost:8080/"
        },
        "outputId": "4433f354-5f03-4afa-c3c5-364e1155ec04"
      },
      "execution_count": null,
      "outputs": [
        {
          "output_type": "execute_result",
          "data": {
            "text/plain": [
              "<tf.Tensor: shape=(), dtype=int32, numpy=7>"
            ]
          },
          "metadata": {},
          "execution_count": 56
        }
      ]
    },
    {
      "cell_type": "code",
      "source": [
        "scalar.ndim"
      ],
      "metadata": {
        "colab": {
          "base_uri": "https://localhost:8080/"
        },
        "id": "F25bHcXqwRPW",
        "outputId": "fa2a950f-ea64-427c-bcaa-669fcce59f46"
      },
      "execution_count": null,
      "outputs": [
        {
          "output_type": "execute_result",
          "data": {
            "text/plain": [
              "0"
            ]
          },
          "metadata": {},
          "execution_count": 4
        }
      ]
    },
    {
      "cell_type": "code",
      "source": [
        "matrix = tf.constant([[6, 5],\n",
        "                      [5, 6]], dtype=tf.float16)\n",
        "matrix"
      ],
      "metadata": {
        "colab": {
          "base_uri": "https://localhost:8080/"
        },
        "id": "iRq2u8NGxh1z",
        "outputId": "12435428-c735-4d5b-b847-a40cb60279d9"
      },
      "execution_count": null,
      "outputs": [
        {
          "output_type": "execute_result",
          "data": {
            "text/plain": [
              "<tf.Tensor: shape=(2, 2), dtype=float16, numpy=\n",
              "array([[6., 5.],\n",
              "       [5., 6.]], dtype=float16)>"
            ]
          },
          "metadata": {},
          "execution_count": 7
        }
      ]
    },
    {
      "cell_type": "markdown",
      "source": [
        "### Built-in initializations"
      ],
      "metadata": {
        "id": "RS2aGSUspwrt"
      }
    },
    {
      "cell_type": "code",
      "source": [
        "z = tf.zeros(shape=[3, 1])\n",
        "z"
      ],
      "metadata": {
        "colab": {
          "base_uri": "https://localhost:8080/"
        },
        "id": "CIwDN_Glp7HZ",
        "outputId": "f51e6fe8-8be4-41ea-a209-c9930cb010fc"
      },
      "execution_count": null,
      "outputs": [
        {
          "output_type": "execute_result",
          "data": {
            "text/plain": [
              "<tf.Tensor: shape=(3, 1), dtype=float32, numpy=\n",
              "array([[0.],\n",
              "       [0.],\n",
              "       [0.]], dtype=float32)>"
            ]
          },
          "metadata": {},
          "execution_count": 4
        }
      ]
    },
    {
      "cell_type": "code",
      "source": [
        "o = tf.ones(shape=[2, 3])\n",
        "o"
      ],
      "metadata": {
        "colab": {
          "base_uri": "https://localhost:8080/"
        },
        "id": "l4H0txevp0o9",
        "outputId": "ae620a47-10f0-4b30-b16a-637b5d3560e5"
      },
      "execution_count": null,
      "outputs": [
        {
          "output_type": "execute_result",
          "data": {
            "text/plain": [
              "<tf.Tensor: shape=(2, 3), dtype=float32, numpy=\n",
              "array([[1., 1., 1.],\n",
              "       [1., 1., 1.]], dtype=float32)>"
            ]
          },
          "metadata": {},
          "execution_count": 2
        }
      ]
    },
    {
      "cell_type": "markdown",
      "source": [
        "### NumPy"
      ],
      "metadata": {
        "id": "tpYAhepRqSN1"
      }
    },
    {
      "cell_type": "code",
      "source": [
        "import numpy as np\n",
        "\n",
        "some_matrix = np.random.randn(2, 3)\n",
        "some_matrix"
      ],
      "metadata": {
        "colab": {
          "base_uri": "https://localhost:8080/"
        },
        "id": "sKRhmZyMqU5k",
        "outputId": "4921f837-6152-4957-f256-a80eb621eb52"
      },
      "execution_count": null,
      "outputs": [
        {
          "output_type": "execute_result",
          "data": {
            "text/plain": [
              "array([[ 0.44960239, -0.70040744, -1.00977769],\n",
              "       [-0.47314648,  1.32845872, -0.49393205]])"
            ]
          },
          "metadata": {},
          "execution_count": 75
        }
      ]
    },
    {
      "cell_type": "code",
      "source": [
        "# NumPy to Tensorflow\n",
        "\n",
        "tf_matrix = tf.constant(some_matrix)\n",
        "tf_matrix"
      ],
      "metadata": {
        "colab": {
          "base_uri": "https://localhost:8080/"
        },
        "id": "fBCZ6w6Iqn-Q",
        "outputId": "e6d2261a-d93a-45bb-cd90-21d4a7965718"
      },
      "execution_count": null,
      "outputs": [
        {
          "output_type": "execute_result",
          "data": {
            "text/plain": [
              "<tf.Tensor: shape=(2, 3), dtype=float64, numpy=\n",
              "array([[ 0.44960239, -0.70040744, -1.00977769],\n",
              "       [-0.47314648,  1.32845872, -0.49393205]])>"
            ]
          },
          "metadata": {},
          "execution_count": 76
        }
      ]
    },
    {
      "cell_type": "code",
      "source": [
        "# Tensorflow to NumPy\n",
        "\n",
        "tf_matrix = tf.constant([3., 7., 10.])\n",
        "\n",
        "tf_matrix.numpy() # or\n",
        "np.array(tf_matrix)"
      ],
      "metadata": {
        "colab": {
          "base_uri": "https://localhost:8080/"
        },
        "id": "_VOJPjIFsK4j",
        "outputId": "1f22c7e5-4a41-4c43-dbe9-0640d2e409bc"
      },
      "execution_count": null,
      "outputs": [
        {
          "output_type": "execute_result",
          "data": {
            "text/plain": [
              "array([ 3.,  7., 10.], dtype=float32)"
            ]
          },
          "metadata": {},
          "execution_count": 78
        }
      ]
    },
    {
      "cell_type": "markdown",
      "source": [
        "**Tensorflow**: by default - *float32*\n",
        "\n",
        "**NumPy**: by default - *float64*"
      ],
      "metadata": {
        "id": "Y989z8Qu5c39"
      }
    },
    {
      "cell_type": "markdown",
      "source": [
        "### Shape, rank, size, squeeze"
      ],
      "metadata": {
        "id": "P7xwbNPlrOPC"
      }
    },
    {
      "cell_type": "code",
      "source": [
        "matrix = tf.ones(shape=[2, 3, 4])\n",
        "matrix.shape, matrix.ndim, tf.size(matrix)"
      ],
      "metadata": {
        "colab": {
          "base_uri": "https://localhost:8080/"
        },
        "id": "WGTbibLArQb6",
        "outputId": "5e77c9a5-178e-4b07-c757-df7b4074f705"
      },
      "execution_count": null,
      "outputs": [
        {
          "output_type": "execute_result",
          "data": {
            "text/plain": [
              "(TensorShape([2, 3, 4]), 3, <tf.Tensor: shape=(), dtype=int32, numpy=24>)"
            ]
          },
          "metadata": {},
          "execution_count": 57
        }
      ]
    },
    {
      "cell_type": "code",
      "source": [
        "tf.reshape(matrix, shape=[4, 3, -1]).shape"
      ],
      "metadata": {
        "colab": {
          "base_uri": "https://localhost:8080/"
        },
        "id": "kFIuy2uwssRE",
        "outputId": "77e0cc3c-2b37-4b6f-8069-f8df4c60553e"
      },
      "execution_count": null,
      "outputs": [
        {
          "output_type": "execute_result",
          "data": {
            "text/plain": [
              "TensorShape([4, 3, 2])"
            ]
          },
          "metadata": {},
          "execution_count": 19
        }
      ]
    },
    {
      "cell_type": "code",
      "source": [
        "new_matrix = matrix[..., tf.newaxis]\n",
        "new_matrix.shape"
      ],
      "metadata": {
        "colab": {
          "base_uri": "https://localhost:8080/"
        },
        "id": "hWgkXOEItIiI",
        "outputId": "eec64895-ebd9-4f37-9e1e-a88ab12ebaa8"
      },
      "execution_count": null,
      "outputs": [
        {
          "output_type": "execute_result",
          "data": {
            "text/plain": [
              "TensorShape([2, 3, 4, 1])"
            ]
          },
          "metadata": {},
          "execution_count": 21
        }
      ]
    },
    {
      "cell_type": "code",
      "source": [
        "new_matrix = tf.expand_dims(matrix, axis=1)\n",
        "new_matrix.shape"
      ],
      "metadata": {
        "colab": {
          "base_uri": "https://localhost:8080/"
        },
        "id": "SSsjvyomtSiO",
        "outputId": "d9b9d325-ab67-4ab2-cbc1-4e894f9a559b"
      },
      "execution_count": null,
      "outputs": [
        {
          "output_type": "execute_result",
          "data": {
            "text/plain": [
              "TensorShape([2, 1, 3, 4])"
            ]
          },
          "metadata": {},
          "execution_count": 58
        }
      ]
    },
    {
      "cell_type": "code",
      "source": [
        "tf.squeeze(new_matrix).shape"
      ],
      "metadata": {
        "colab": {
          "base_uri": "https://localhost:8080/"
        },
        "id": "rD6mM1az2kZ0",
        "outputId": "bc9810ca-8351-4d67-d1c1-54e22953cd9e"
      },
      "execution_count": null,
      "outputs": [
        {
          "output_type": "execute_result",
          "data": {
            "text/plain": [
              "TensorShape([2, 3, 4])"
            ]
          },
          "metadata": {},
          "execution_count": 60
        }
      ]
    },
    {
      "cell_type": "markdown",
      "source": [
        "### Random tensors"
      ],
      "metadata": {
        "id": "4BlUBW7z2wMo"
      }
    },
    {
      "cell_type": "code",
      "source": [
        "r1 = tf.random.Generator.from_seed(123)\n",
        "tensor = r1.normal(shape=[2, 1])\n",
        "tensor"
      ],
      "metadata": {
        "colab": {
          "base_uri": "https://localhost:8080/"
        },
        "id": "Maa6SoQz2y25",
        "outputId": "7d0654ae-4090-4968-d207-1c05336384af"
      },
      "execution_count": null,
      "outputs": [
        {
          "output_type": "execute_result",
          "data": {
            "text/plain": [
              "<tf.Tensor: shape=(2, 1), dtype=float32, numpy=\n",
              "array([[ 0.8673864 ],\n",
              "       [-0.29899067]], dtype=float32)>"
            ]
          },
          "metadata": {},
          "execution_count": 12
        }
      ]
    },
    {
      "cell_type": "markdown",
      "source": [
        "### Shuffle"
      ],
      "metadata": {
        "id": "WK6t7NWe3ncU"
      }
    },
    {
      "cell_type": "code",
      "source": [
        "tensor = tf.constant([[1, 2],\n",
        "                      [3, 4],\n",
        "                      [5, 6]])\n",
        "tf.random.shuffle(tensor, seed=32) # different every time "
      ],
      "metadata": {
        "colab": {
          "base_uri": "https://localhost:8080/"
        },
        "id": "OlqElwqn3pid",
        "outputId": "2977a04b-a38e-4efc-aa9a-e450d255e992"
      },
      "execution_count": null,
      "outputs": [
        {
          "output_type": "execute_result",
          "data": {
            "text/plain": [
              "<tf.Tensor: shape=(3, 2), dtype=int32, numpy=\n",
              "array([[1, 2],\n",
              "       [5, 6],\n",
              "       [3, 4]], dtype=int32)>"
            ]
          },
          "metadata": {},
          "execution_count": 23
        }
      ]
    },
    {
      "cell_type": "code",
      "source": [
        "tensor = tf.constant([[1, 2],\n",
        "                      [3, 4],\n",
        "                      [5, 6]])\n",
        "tf.random.set_seed(32)\n",
        "tf.random.shuffle(tensor, seed=32) # uses both global and operation seed"
      ],
      "metadata": {
        "colab": {
          "base_uri": "https://localhost:8080/"
        },
        "id": "xm1PNyft5YWB",
        "outputId": "8a6f1c9e-7b9f-4301-d163-19df84ac8f6c"
      },
      "execution_count": null,
      "outputs": [
        {
          "output_type": "execute_result",
          "data": {
            "text/plain": [
              "<tf.Tensor: shape=(3, 2), dtype=int32, numpy=\n",
              "array([[5, 6],\n",
              "       [3, 4],\n",
              "       [1, 2]], dtype=int32)>"
            ]
          },
          "metadata": {},
          "execution_count": 36
        }
      ]
    },
    {
      "cell_type": "markdown",
      "source": [
        "### Matrix operations"
      ],
      "metadata": {
        "id": "mF_rqBl_uxBt"
      }
    },
    {
      "cell_type": "code",
      "source": [
        "rnd = tf.random.Generator.from_seed(64)\n",
        "matrix1 = rnd.normal(shape=[2, 3])\n",
        "matrix2 = rnd.normal(shape=[3, 2])"
      ],
      "metadata": {
        "id": "FthvVTIHuwa9"
      },
      "execution_count": null,
      "outputs": []
    },
    {
      "cell_type": "code",
      "source": [
        "# dot-product\n",
        "\n",
        "tf.matmul(matrix1, matrix2)\n",
        "tf.tensordot(matrix1, matrix2, axes=1).shape"
      ],
      "metadata": {
        "colab": {
          "base_uri": "https://localhost:8080/"
        },
        "id": "HKOHVM6-veCJ",
        "outputId": "d4b4a43d-bdb3-47e8-f32a-3d075a998b77"
      },
      "execution_count": null,
      "outputs": [
        {
          "output_type": "execute_result",
          "data": {
            "text/plain": [
              "TensorShape([2, 2])"
            ]
          },
          "metadata": {},
          "execution_count": 63
        }
      ]
    },
    {
      "cell_type": "code",
      "source": [
        "# square, sqrt, log\n",
        "\n",
        "tf.square(matrix1)\n",
        "tf.sqrt(matrix1)\n",
        "tf.math.log(tf.abs(matrix1))"
      ],
      "metadata": {
        "colab": {
          "base_uri": "https://localhost:8080/"
        },
        "id": "ZdrLyVYT3Zyr",
        "outputId": "b8662b4f-9731-4869-a5b8-ad876eec6ef3"
      },
      "execution_count": null,
      "outputs": [
        {
          "output_type": "execute_result",
          "data": {
            "text/plain": [
              "<tf.Tensor: shape=(2, 3), dtype=float32, numpy=\n",
              "array([[-0.7756038, -0.6637185, -2.730314 ],\n",
              "       [ 0.366393 , -0.7237602,  0.6078095]], dtype=float32)>"
            ]
          },
          "metadata": {},
          "execution_count": 65
        }
      ]
    },
    {
      "cell_type": "markdown",
      "source": [
        "### Cast"
      ],
      "metadata": {
        "id": "ll5yjVq6y0MZ"
      }
    },
    {
      "cell_type": "code",
      "source": [
        "matrix = tf.constant([[1, 2],\n",
        "                      [3, 4]])\n",
        "matrix"
      ],
      "metadata": {
        "colab": {
          "base_uri": "https://localhost:8080/"
        },
        "id": "coxZTrHZy3LJ",
        "outputId": "4337c148-66f3-4951-e7a7-6e58bfdb813e"
      },
      "execution_count": null,
      "outputs": [
        {
          "output_type": "execute_result",
          "data": {
            "text/plain": [
              "<tf.Tensor: shape=(2, 2), dtype=int32, numpy=\n",
              "array([[1, 2],\n",
              "       [3, 4]], dtype=int32)>"
            ]
          },
          "metadata": {},
          "execution_count": 35
        }
      ]
    },
    {
      "cell_type": "code",
      "source": [
        "tf.cast(matrix, dtype=tf.float16)"
      ],
      "metadata": {
        "colab": {
          "base_uri": "https://localhost:8080/"
        },
        "id": "AgbbOo5nzEOn",
        "outputId": "edfd92d1-e2ae-43f8-cf08-adf077f48081"
      },
      "execution_count": null,
      "outputs": [
        {
          "output_type": "execute_result",
          "data": {
            "text/plain": [
              "<tf.Tensor: shape=(2, 2), dtype=float16, numpy=\n",
              "array([[1., 2.],\n",
              "       [3., 4.]], dtype=float16)>"
            ]
          },
          "metadata": {},
          "execution_count": 36
        }
      ]
    },
    {
      "cell_type": "markdown",
      "source": [
        "### min, max, mean, sum, abs"
      ],
      "metadata": {
        "id": "3y6JTCN5zaPp"
      }
    },
    {
      "cell_type": "code",
      "source": [
        "matrix = tf.constant(np.random.randint(low=0, high=100, size=[3, 10]), dtype=tf.float16)\n",
        "matrix"
      ],
      "metadata": {
        "colab": {
          "base_uri": "https://localhost:8080/"
        },
        "id": "Sak1kDDizZr3",
        "outputId": "4220b0e3-8c48-425e-8e0a-af445d323634"
      },
      "execution_count": null,
      "outputs": [
        {
          "output_type": "execute_result",
          "data": {
            "text/plain": [
              "<tf.Tensor: shape=(3, 10), dtype=float16, numpy=\n",
              "array([[67., 96., 84., 68.,  1., 59., 20.,  3., 58., 13.],\n",
              "       [66., 34., 36., 47., 57.,  6., 63., 35.,  8.,  3.],\n",
              "       [34., 23., 36.,  7., 65., 75., 66., 66., 57., 63.]], dtype=float16)>"
            ]
          },
          "metadata": {},
          "execution_count": 45
        }
      ]
    },
    {
      "cell_type": "code",
      "source": [
        "dct = {}\n",
        "dct['min'] = tf.reduce_min(matrix, axis=0, keepdims=True)\n",
        "dct['max'] = tf.reduce_max(matrix, axis=1, keepdims=True)\n",
        "dct['mean'] = tf.reduce_mean(matrix, axis=0, keepdims=False)\n",
        "dct['sum'] = tf.reduce_sum(matrix)\n",
        "dct['abs'] = tf.abs(matrix)\n",
        "dct"
      ],
      "metadata": {
        "colab": {
          "base_uri": "https://localhost:8080/"
        },
        "id": "prqZ-Rnwz8P3",
        "outputId": "0dfa57cd-1182-4b1a-e8b0-eeefc8fcd33d"
      },
      "execution_count": null,
      "outputs": [
        {
          "output_type": "execute_result",
          "data": {
            "text/plain": [
              "{'abs': <tf.Tensor: shape=(3, 10), dtype=float16, numpy=\n",
              " array([[67., 96., 84., 68.,  1., 59., 20.,  3., 58., 13.],\n",
              "        [66., 34., 36., 47., 57.,  6., 63., 35.,  8.,  3.],\n",
              "        [34., 23., 36.,  7., 65., 75., 66., 66., 57., 63.]], dtype=float16)>,\n",
              " 'max': <tf.Tensor: shape=(3, 1), dtype=float16, numpy=\n",
              " array([[96.],\n",
              "        [66.],\n",
              "        [75.]], dtype=float16)>,\n",
              " 'mean': <tf.Tensor: shape=(10,), dtype=float16, numpy=\n",
              " array([55.66, 51.  , 52.  , 40.66, 41.  , 46.66, 49.66, 34.66, 41.  ,\n",
              "        26.33], dtype=float16)>,\n",
              " 'min': <tf.Tensor: shape=(1, 10), dtype=float16, numpy=array([[34., 23., 36.,  7.,  1.,  6., 20.,  3.,  8.,  3.]], dtype=float16)>,\n",
              " 'sum': <tf.Tensor: shape=(), dtype=float16, numpy=1316.0>}"
            ]
          },
          "metadata": {},
          "execution_count": 50
        }
      ]
    },
    {
      "cell_type": "markdown",
      "source": [
        "### argmax, argmin"
      ],
      "metadata": {
        "id": "NCtZ4I3M1tjR"
      }
    },
    {
      "cell_type": "code",
      "source": [
        "tf.argmax(dct['abs'], axis=1)"
      ],
      "metadata": {
        "colab": {
          "base_uri": "https://localhost:8080/"
        },
        "id": "8KR_TEOI1uYl",
        "outputId": "6fa7aa9e-3ddb-43db-fcd4-dc2f38f07fdf"
      },
      "execution_count": null,
      "outputs": [
        {
          "output_type": "execute_result",
          "data": {
            "text/plain": [
              "<tf.Tensor: shape=(3,), dtype=int64, numpy=array([1, 0, 5])>"
            ]
          },
          "metadata": {},
          "execution_count": 52
        }
      ]
    },
    {
      "cell_type": "markdown",
      "source": [
        "### one-hot encoding"
      ],
      "metadata": {
        "id": "cFDtRdYK2yR5"
      }
    },
    {
      "cell_type": "code",
      "source": [
        "inds = tf.constant([1, 3, 2])\n",
        "tf.one_hot(inds, depth=5)"
      ],
      "metadata": {
        "colab": {
          "base_uri": "https://localhost:8080/"
        },
        "id": "2lyS_aDC20kv",
        "outputId": "356112ed-e2c8-4394-9345-c699351c3cc9"
      },
      "execution_count": null,
      "outputs": [
        {
          "output_type": "execute_result",
          "data": {
            "text/plain": [
              "<tf.Tensor: shape=(3, 5), dtype=float32, numpy=\n",
              "array([[0., 1., 0., 0., 0.],\n",
              "       [0., 0., 0., 1., 0.],\n",
              "       [0., 0., 1., 0., 0.]], dtype=float32)>"
            ]
          },
          "metadata": {},
          "execution_count": 61
        }
      ]
    },
    {
      "cell_type": "markdown",
      "source": [
        "## Variables"
      ],
      "metadata": {
        "id": "ydlRDNXYzrnu"
      }
    },
    {
      "cell_type": "code",
      "source": [
        "var = tf.Variable([1, 2], dtype=tf.int32)\n",
        "var"
      ],
      "metadata": {
        "colab": {
          "base_uri": "https://localhost:8080/"
        },
        "id": "hRe29X2Ezt_5",
        "outputId": "9343b735-8687-4a0b-872e-66bac6a65151"
      },
      "execution_count": null,
      "outputs": [
        {
          "output_type": "execute_result",
          "data": {
            "text/plain": [
              "<tf.Variable 'Variable:0' shape=(2,) dtype=int32, numpy=array([1, 2], dtype=int32)>"
            ]
          },
          "metadata": {},
          "execution_count": 66
        }
      ]
    },
    {
      "cell_type": "code",
      "source": [
        "var[0].assign(8)\n",
        "var"
      ],
      "metadata": {
        "colab": {
          "base_uri": "https://localhost:8080/"
        },
        "id": "kNVGC0I7z5Q_",
        "outputId": "1314dee5-ef8d-41f1-8ba7-b93e2c1f7db4"
      },
      "execution_count": null,
      "outputs": [
        {
          "output_type": "execute_result",
          "data": {
            "text/plain": [
              "<tf.Variable 'Variable:0' shape=(2,) dtype=int32, numpy=array([8, 2], dtype=int32)>"
            ]
          },
          "metadata": {},
          "execution_count": 67
        }
      ]
    },
    {
      "cell_type": "code",
      "source": [
        "var.assign_add([10, 10])"
      ],
      "metadata": {
        "id": "_qwMEurDz8rb",
        "colab": {
          "base_uri": "https://localhost:8080/"
        },
        "outputId": "b8382879-6ea2-45dc-cfa2-95f65b35e437"
      },
      "execution_count": null,
      "outputs": [
        {
          "output_type": "execute_result",
          "data": {
            "text/plain": [
              "<tf.Variable 'UnreadVariable' shape=(2,) dtype=int32, numpy=array([18, 12], dtype=int32)>"
            ]
          },
          "metadata": {},
          "execution_count": 68
        }
      ]
    },
    {
      "cell_type": "markdown",
      "source": [
        "## @tf.function"
      ],
      "metadata": {
        "id": "z2Bp_r3J6Vd4"
      }
    },
    {
      "cell_type": "code",
      "source": [
        "@tf.function # speeds up the process\n",
        "def some_function(x, y):\n",
        "  return tf.matmul(x, y)"
      ],
      "metadata": {
        "id": "mN4MqOsX4LCq"
      },
      "execution_count": null,
      "outputs": []
    },
    {
      "cell_type": "markdown",
      "source": [
        "# Google Colab"
      ],
      "metadata": {
        "id": "bo-NCCbmSLtx"
      }
    },
    {
      "cell_type": "markdown",
      "source": [
        "### uploading files "
      ],
      "metadata": {
        "id": "v8G0FR3jSs4A"
      }
    },
    {
      "cell_type": "markdown",
      "source": [
        "We can upload any file using google colab files and then read via io.BytesIO"
      ],
      "metadata": {
        "id": "NEfNZKLbW6Wc"
      }
    },
    {
      "cell_type": "code",
      "source": [
        "from google.colab import files\n",
        "uploaded = files.upload()"
      ],
      "metadata": {
        "id": "4yv-0aarSUbF"
      },
      "execution_count": null,
      "outputs": []
    },
    {
      "cell_type": "code",
      "source": [
        "import io\n",
        "A_train = np.loadtxt(io.BytesIO(uploaded[\"file.csv\"]), delimiter=',', ndmin=2)"
      ],
      "metadata": {
        "id": "GXe0NQJPScj1"
      },
      "execution_count": null,
      "outputs": []
    },
    {
      "cell_type": "markdown",
      "source": [
        "We can also mount Google Drive and read files from there"
      ],
      "metadata": {
        "id": "wsERkdK6S2cV"
      }
    },
    {
      "cell_type": "code",
      "source": [
        "from google.colab import drive\n",
        "drive.mount('/content/drive')"
      ],
      "metadata": {
        "id": "yIExNSVuS6ZF"
      },
      "execution_count": null,
      "outputs": []
    },
    {
      "cell_type": "code",
      "source": [
        "# to read from google drive we use path:\n",
        "# /content/drive/My Drive/...\n",
        "\n",
        "# We can create loval file and copy it on Google Drive\n",
        "\n",
        "with open('example.txt', 'w') as f:\n",
        "  f.write('some content')\n",
        "\n",
        "# copying\n",
        "!cp -r \"/content/some_dir\" \"/content/drive/My Drive/other_dir\""
      ],
      "metadata": {
        "id": "J3jloh87THGJ"
      },
      "execution_count": null,
      "outputs": []
    },
    {
      "cell_type": "markdown",
      "source": [
        "### downloading files"
      ],
      "metadata": {
        "id": "gbCrLSlnXpL8"
      }
    },
    {
      "cell_type": "code",
      "source": [
        "from google.colab import files\n",
        "\n",
        "with open('example.txt', 'w') as f:\n",
        "  f.write('some content')\n",
        "\n",
        "files.download('example.txt') # will download to PC"
      ],
      "metadata": {
        "id": "osxXqaJHXroB"
      },
      "execution_count": null,
      "outputs": []
    },
    {
      "cell_type": "markdown",
      "source": [
        "## GPU \n",
        "\n",
        "Runtime -> Change Runtime Type -> Select GPU (Google Colab)"
      ],
      "metadata": {
        "id": "ah4Bxu6kOUyH"
      }
    },
    {
      "cell_type": "code",
      "source": [
        "print(tf.config.list_physical_devices('GPU'))"
      ],
      "metadata": {
        "colab": {
          "base_uri": "https://localhost:8080/"
        },
        "id": "ZD6Bj1x56lPq",
        "outputId": "3c5360e0-17df-4813-a3c7-ef9d1ee5500f"
      },
      "execution_count": null,
      "outputs": [
        {
          "output_type": "stream",
          "name": "stdout",
          "text": [
            "[PhysicalDevice(name='/physical_device:GPU:0', device_type='GPU')]\n"
          ]
        }
      ]
    },
    {
      "cell_type": "code",
      "source": [
        "!nvidia-smi"
      ],
      "metadata": {
        "colab": {
          "base_uri": "https://localhost:8080/"
        },
        "id": "zfB4IKcS6pxj",
        "outputId": "07081ed0-0954-43e3-f69c-594e183b4324"
      },
      "execution_count": null,
      "outputs": [
        {
          "output_type": "stream",
          "name": "stdout",
          "text": [
            "Tue Jun 28 12:14:22 2022       \n",
            "+-----------------------------------------------------------------------------+\n",
            "| NVIDIA-SMI 460.32.03    Driver Version: 460.32.03    CUDA Version: 11.2     |\n",
            "|-------------------------------+----------------------+----------------------+\n",
            "| GPU  Name        Persistence-M| Bus-Id        Disp.A | Volatile Uncorr. ECC |\n",
            "| Fan  Temp  Perf  Pwr:Usage/Cap|         Memory-Usage | GPU-Util  Compute M. |\n",
            "|                               |                      |               MIG M. |\n",
            "|===============================+======================+======================|\n",
            "|   0  Tesla T4            Off  | 00000000:00:04.0 Off |                    0 |\n",
            "| N/A   47C    P8     9W /  70W |      0MiB / 15109MiB |      0%      Default |\n",
            "|                               |                      |                  N/A |\n",
            "+-------------------------------+----------------------+----------------------+\n",
            "                                                                               \n",
            "+-----------------------------------------------------------------------------+\n",
            "| Processes:                                                                  |\n",
            "|  GPU   GI   CI        PID   Type   Process name                  GPU Memory |\n",
            "|        ID   ID                                                   Usage      |\n",
            "|=============================================================================|\n",
            "|  No running processes found                                                 |\n",
            "+-----------------------------------------------------------------------------+\n"
          ]
        }
      ]
    },
    {
      "cell_type": "markdown",
      "source": [
        "# Tensorboard"
      ],
      "metadata": {
        "id": "MSwJGB4TTTQ8"
      }
    },
    {
      "cell_type": "code",
      "source": [
        "%load_ext tensorboard\n",
        "%tensorboard --logdir /content/other_dir"
      ],
      "metadata": {
        "id": "Y--9NCcNTSe4"
      },
      "execution_count": null,
      "outputs": []
    }
  ]
}