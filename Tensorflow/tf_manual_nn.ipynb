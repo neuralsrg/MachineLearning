{
  "nbformat": 4,
  "nbformat_minor": 0,
  "metadata": {
    "colab": {
      "name": "tf_manual_nn.ipynb",
      "provenance": [],
      "authorship_tag": "ABX9TyN4qq7ZCWUjr3QSdPyhp0G0",
      "include_colab_link": true
    },
    "kernelspec": {
      "name": "python3",
      "display_name": "Python 3"
    },
    "language_info": {
      "name": "python"
    },
    "accelerator": "GPU",
    "gpuClass": "standard"
  },
  "cells": [
    {
      "cell_type": "markdown",
      "metadata": {
        "id": "view-in-github",
        "colab_type": "text"
      },
      "source": [
        "<a href=\"https://colab.research.google.com/github/neuralsrg/SupervisedLearning/blob/main/Tensorflow/tf_manual_nn.ipynb\" target=\"_parent\"><img src=\"https://colab.research.google.com/assets/colab-badge.svg\" alt=\"Open In Colab\"/></a>"
      ]
    },
    {
      "cell_type": "markdown",
      "source": [
        "# Manual neural network implementation using **Tensorflow** "
      ],
      "metadata": {
        "id": "PBH4pgbnpF8q"
      }
    },
    {
      "cell_type": "code",
      "execution_count": 1,
      "metadata": {
        "id": "yGyxJ3Gno0QO"
      },
      "outputs": [],
      "source": [
        "import h5py\n",
        "import numpy as np\n",
        "import tensorflow as tf\n",
        "import matplotlib.pyplot as plt"
      ]
    },
    {
      "cell_type": "code",
      "source": [
        "from google.colab import drive\n",
        "drive.mount('/content/drive')"
      ],
      "metadata": {
        "colab": {
          "base_uri": "https://localhost:8080/"
        },
        "id": "M-2gbQ0krNX7",
        "outputId": "10787098-5c0c-4483-a96a-afee57acb0d3"
      },
      "execution_count": 2,
      "outputs": [
        {
          "output_type": "stream",
          "name": "stdout",
          "text": [
            "Mounted at /content/drive\n"
          ]
        }
      ]
    },
    {
      "cell_type": "markdown",
      "source": [
        "## Dataset\n",
        "\n",
        "https://www.kaggle.com/code/ayanmaity/hand-sign-resnet/data"
      ],
      "metadata": {
        "id": "yhdW94nRrjVG"
      }
    },
    {
      "cell_type": "code",
      "source": [
        "train_dataset = h5py.File('/content/drive/MyDrive/HandSigns/train_signs.h5', \"r\")\n",
        "test_dataset = h5py.File('/content/drive/MyDrive/HandSigns/test_signs.h5', \"r\")"
      ],
      "metadata": {
        "id": "psJ-AQIko3tw"
      },
      "execution_count": 3,
      "outputs": []
    },
    {
      "cell_type": "markdown",
      "source": [
        "6 signs: 0, 1, 2, 3, 4, 5;"
      ],
      "metadata": {
        "id": "Kj1v-H6rtS3e"
      }
    },
    {
      "cell_type": "code",
      "source": [
        "train_dataset['list_classes']"
      ],
      "metadata": {
        "colab": {
          "base_uri": "https://localhost:8080/"
        },
        "id": "VHske_-npibZ",
        "outputId": "91cf3c3f-47b4-4c44-d57b-a6cff8b520a7"
      },
      "execution_count": 5,
      "outputs": [
        {
          "output_type": "execute_result",
          "data": {
            "text/plain": [
              "<HDF5 dataset \"list_classes\": shape (6,), type \"<i8\">"
            ]
          },
          "metadata": {},
          "execution_count": 5
        }
      ]
    },
    {
      "cell_type": "code",
      "source": [
        "train_dataset['train_set_x'], train_dataset['train_set_y']"
      ],
      "metadata": {
        "colab": {
          "base_uri": "https://localhost:8080/"
        },
        "id": "bWZSoFqCtJeG",
        "outputId": "064a0a91-871d-464d-f98e-4fcaa88e30e1"
      },
      "execution_count": 9,
      "outputs": [
        {
          "output_type": "execute_result",
          "data": {
            "text/plain": [
              "(<HDF5 dataset \"train_set_x\": shape (1080, 64, 64, 3), type \"|u1\">,\n",
              " <HDF5 dataset \"train_set_y\": shape (1080,), type \"<i8\">)"
            ]
          },
          "metadata": {},
          "execution_count": 9
        }
      ]
    },
    {
      "cell_type": "code",
      "source": [
        "test_dataset['test_set_x'], test_dataset['test_set_y']"
      ],
      "metadata": {
        "colab": {
          "base_uri": "https://localhost:8080/"
        },
        "id": "zuRVuYjMt6My",
        "outputId": "76df9c6a-1307-4d7b-99da-a2416aea0573"
      },
      "execution_count": 10,
      "outputs": [
        {
          "output_type": "execute_result",
          "data": {
            "text/plain": [
              "(<HDF5 dataset \"test_set_x\": shape (120, 64, 64, 3), type \"|u1\">,\n",
              " <HDF5 dataset \"test_set_y\": shape (120,), type \"<i8\">)"
            ]
          },
          "metadata": {},
          "execution_count": 10
        }
      ]
    },
    {
      "cell_type": "markdown",
      "source": [
        "### Converting to Tensorflow dataset\n",
        "\n",
        "*from_tensor_slices:* The given tensors are sliced along their first dimension."
      ],
      "metadata": {
        "id": "PTFlYSheuhYe"
      }
    },
    {
      "cell_type": "code",
      "source": [
        "x_train = tf.data.Dataset.from_tensor_slices(train_dataset['train_set_x'])\n",
        "y_train = tf.data.Dataset.from_tensor_slices(train_dataset['train_set_y'])\n",
        "\n",
        "x_test = tf.data.Dataset.from_tensor_slices(test_dataset['test_set_x'])\n",
        "y_test = tf.data.Dataset.from_tensor_slices(test_dataset['test_set_y'])"
      ],
      "metadata": {
        "id": "vfMfIxAbuKi6"
      },
      "execution_count": 11,
      "outputs": []
    },
    {
      "cell_type": "code",
      "source": [
        "type(x_train) # tensorflow dataset"
      ],
      "metadata": {
        "colab": {
          "base_uri": "https://localhost:8080/"
        },
        "id": "yAmoDPDeu8Hl",
        "outputId": "4b542ad4-978c-458e-d8fa-e0e3c2073de5"
      },
      "execution_count": 13,
      "outputs": [
        {
          "output_type": "execute_result",
          "data": {
            "text/plain": [
              "tensorflow.python.data.ops.dataset_ops.TensorSliceDataset"
            ]
          },
          "metadata": {},
          "execution_count": 13
        }
      ]
    },
    {
      "cell_type": "code",
      "source": [
        ""
      ],
      "metadata": {
        "id": "KWwq3i-JvG0K"
      },
      "execution_count": null,
      "outputs": []
    }
  ]
}