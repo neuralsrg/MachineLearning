{
  "nbformat": 4,
  "nbformat_minor": 0,
  "metadata": {
    "colab": {
      "name": "[hand_signs]tf.ipynb",
      "provenance": [],
      "collapsed_sections": [],
      "toc_visible": true,
      "authorship_tag": "ABX9TyMOhgv7nJw7lksyq0PwJLXw",
      "include_colab_link": true
    },
    "kernelspec": {
      "name": "python3",
      "display_name": "Python 3"
    },
    "language_info": {
      "name": "python"
    },
    "gpuClass": "standard"
  },
  "cells": [
    {
      "cell_type": "markdown",
      "metadata": {
        "id": "view-in-github",
        "colab_type": "text"
      },
      "source": [
        "<a href=\"https://colab.research.google.com/github/neuralsrg/SupervisedLearning/blob/main/Tensorflow/%5Bhand_signs%5Dtf.ipynb\" target=\"_parent\"><img src=\"https://colab.research.google.com/assets/colab-badge.svg\" alt=\"Open In Colab\"/></a>"
      ]
    },
    {
      "cell_type": "markdown",
      "source": [
        "# Creating the same Neural Net (as in tf_manual_nn) using tf functions"
      ],
      "metadata": {
        "id": "zvsjIHeBSzYD"
      }
    },
    {
      "cell_type": "code",
      "execution_count": 1,
      "metadata": {
        "id": "h5k78fFKSjSw"
      },
      "outputs": [],
      "source": [
        "import tensorflow as tf\n",
        "import numpy as np\n",
        "import matplotlib.pyplot as plt"
      ]
    },
    {
      "cell_type": "code",
      "source": [
        "from google.colab import drive\n",
        "drive.mount('/content/drive')"
      ],
      "metadata": {
        "colab": {
          "base_uri": "https://localhost:8080/"
        },
        "id": "_4rH2_K3b_kl",
        "outputId": "41566bdf-6450-439c-f18d-f3b4c5a5c70c"
      },
      "execution_count": 2,
      "outputs": [
        {
          "output_type": "stream",
          "name": "stdout",
          "text": [
            "Mounted at /content/drive\n"
          ]
        }
      ]
    },
    {
      "cell_type": "markdown",
      "source": [
        "## Dataset"
      ],
      "metadata": {
        "id": "s5oOxTsXb9vI"
      }
    },
    {
      "cell_type": "code",
      "source": [
        "import h5py\n",
        "\n",
        "train_dataset = h5py.File('/content/drive/MyDrive/HandSigns/train_signs.h5', \"r\")\n",
        "test_dataset = h5py.File('/content/drive/MyDrive/HandSigns/test_signs.h5', \"r\")"
      ],
      "metadata": {
        "id": "zJ4KMb71cFdu"
      },
      "execution_count": 3,
      "outputs": []
    },
    {
      "cell_type": "code",
      "source": [
        "X_train_old = np.array(train_dataset['train_set_x']).reshape(-1, 64 * 64 * 3) / 255.\n",
        "X_test_old = np.array(test_dataset['test_set_x']).reshape(-1, 64 * 64 * 3) / 255.\n",
        "y_train_old = np.array(train_dataset['train_set_y'])\n",
        "y_test_old = np.array(test_dataset['test_set_y'])\n",
        "\n",
        "X_train_old = X_train_old.reshape(-1, 1, 64*64*3)\n",
        "X_test_old = X_test_old.reshape(-1, 1, 64*64*3)\n",
        "\n",
        "# X_train_old = X_train_old[0].reshape(1, 1, -1)\n",
        "# y_train_old = np.array([y_train_old[0]])\n",
        "\n",
        "X_train_old = tf.cast(tf.constant(X_train_old), dtype=tf.float32)\n",
        "y_train_old = tf.constant(y_train_old)"
      ],
      "metadata": {
        "id": "CrOxFLm0eeZp"
      },
      "execution_count": 146,
      "outputs": []
    },
    {
      "cell_type": "code",
      "source": [
        "X_train_old.shape"
      ],
      "metadata": {
        "colab": {
          "base_uri": "https://localhost:8080/"
        },
        "id": "qRhUAZ_cygpj",
        "outputId": "01c94d7a-bf77-4f16-b54f-808c219cc9f7"
      },
      "execution_count": 147,
      "outputs": [
        {
          "output_type": "execute_result",
          "data": {
            "text/plain": [
              "TensorShape([1080, 1, 12288])"
            ]
          },
          "metadata": {},
          "execution_count": 147
        }
      ]
    },
    {
      "cell_type": "markdown",
      "source": [
        "## Model"
      ],
      "metadata": {
        "id": "W7qtY0v2TAPf"
      }
    },
    {
      "cell_type": "code",
      "source": [
        "tf.random.set_seed(32)\n",
        "\n",
        "model = tf.keras.models.Sequential()\n",
        "model.add(tf.keras.layers.Flatten())\n",
        "model.add(tf.keras.layers.Dense(25,\n",
        "                                activation='relu',\n",
        "                                kernel_initializer='glorot_uniform'))\n",
        "model.add(tf.keras.layers.Dense(12,\n",
        "                                activation='relu',\n",
        "                                kernel_initializer='glorot_uniform'))\n",
        "model.add(tf.keras.layers.Dense(6,\n",
        "                                activation='softmax',\n",
        "                                kernel_initializer='glorot_uniform'))\n",
        "\n",
        "model.compile(\n",
        "    optimizer=tf.keras.optimizers.SGD(learning_rate=0.0001),\n",
        "    loss = tf.keras.losses.SparseCategoricalCrossentropy(from_logits=False),\n",
        "    metrics=['accuracy']\n",
        ")"
      ],
      "metadata": {
        "id": "yUUsSL9GcQg2"
      },
      "execution_count": 455,
      "outputs": []
    },
    {
      "cell_type": "code",
      "source": [
        "model(X_train_old)#.reshape(-1, 1, 64*64*3))\n",
        "model.summary()"
      ],
      "metadata": {
        "colab": {
          "base_uri": "https://localhost:8080/"
        },
        "id": "GJjpSuyklZ_g",
        "outputId": "df062bf8-3af6-4cb1-c97b-81015d518ecf"
      },
      "execution_count": 456,
      "outputs": [
        {
          "output_type": "stream",
          "name": "stdout",
          "text": [
            "Model: \"sequential_26\"\n",
            "_________________________________________________________________\n",
            " Layer (type)                Output Shape              Param #   \n",
            "=================================================================\n",
            " flatten_26 (Flatten)        (1080, 12288)             0         \n",
            "                                                                 \n",
            " dense_78 (Dense)            (1080, 25)                307225    \n",
            "                                                                 \n",
            " dense_79 (Dense)            (1080, 12)                312       \n",
            "                                                                 \n",
            " dense_80 (Dense)            (1080, 6)                 78        \n",
            "                                                                 \n",
            "=================================================================\n",
            "Total params: 307,615\n",
            "Trainable params: 307,615\n",
            "Non-trainable params: 0\n",
            "_________________________________________________________________\n"
          ]
        }
      ]
    },
    {
      "cell_type": "code",
      "source": [
        "# parameters\n",
        "\n",
        "W1, b1 = model.layers[1].get_weights()\n",
        "W1 = tf.Variable(W1)\n",
        "b1 = tf.Variable(b1.reshape(1, -1))\n",
        "\n",
        "W2, b2 = model.layers[2].get_weights()\n",
        "W2 = tf.Variable(W2)\n",
        "b2 = tf.Variable(b2.reshape(1, -1))\n",
        "\n",
        "W3, b3 = model.layers[3].get_weights()\n",
        "W3 = tf.Variable(W3)\n",
        "b3 = tf.Variable(b3.reshape(1, -1))\n",
        "\n",
        "parameters = {\n",
        "    'W1' : tf.Variable(W1),\n",
        "    'b1' : tf.Variable(b1),\n",
        "    'W2' : tf.Variable(W2),\n",
        "    'b2' : tf.Variable(b2),\n",
        "    'W3' : tf.Variable(W3),\n",
        "    'b3' : tf.Variable(b3)\n",
        "}\n",
        "\n",
        "params1 = {\n",
        "    'W1' : tf.Variable(W1),\n",
        "    'b1' : tf.Variable(b1),\n",
        "    'W2' : tf.Variable(W2),\n",
        "    'b2' : tf.Variable(b2),\n",
        "    'W3' : tf.Variable(W3),\n",
        "    'b3' : tf.Variable(b3)\n",
        "}"
      ],
      "metadata": {
        "id": "ExZHPzCmxsv2"
      },
      "execution_count": 457,
      "outputs": []
    },
    {
      "cell_type": "markdown",
      "source": [
        "## Training"
      ],
      "metadata": {
        "id": "qbDrk2e_dX2r"
      }
    },
    {
      "cell_type": "code",
      "source": [
        "# lr_scheduler = tf.keras.callbacks.LearningRateScheduler(lambda epoch: 1e-4 * 0.99**(epoch))\n",
        "\n",
        "for i in range(50):\n",
        "  W1, b1 = model.layers[1].get_weights()\n",
        "  tf_W1_old = np.copy(W1)\n",
        "\n",
        "  history = model.fit(\n",
        "      x=X_train_old,\n",
        "      y=y_train_old,\n",
        "      batch_size=108,\n",
        "      epochs=1,\n",
        "      verbose=1\n",
        "  )\n",
        "\n",
        "  W1, b1 = model.layers[1].get_weights()\n",
        "  tf_W1_new = np.copy(W1)"
      ],
      "metadata": {
        "id": "j7GU0ErUcZE1"
      },
      "execution_count": null,
      "outputs": []
    },
    {
      "cell_type": "markdown",
      "source": [
        "## Manual"
      ],
      "metadata": {
        "id": "mAXqGHXZxogc"
      }
    },
    {
      "cell_type": "code",
      "source": [
        "def normalize(image):\n",
        "  image = tf.cast(image, tf.float32) / 255.0\n",
        "  image = tf.reshape(image, [-1, ])\n",
        "  \n",
        "  return image\n",
        "\n",
        "def forward(X, parameters):\n",
        "\n",
        "  W1 = parameters['W1']\n",
        "  b1 = parameters['b1']\n",
        "  W2 = parameters['W2']\n",
        "  b2 = parameters['b2']\n",
        "  W3 = parameters['W3']\n",
        "  b3 = parameters['b3']\n",
        "\n",
        "  #print(X.shape, W1.shape, b1.shape)\n",
        "  Z1 = tf.math.add(tf.linalg.matmul(X, W1), b1)\n",
        "  A1 = tf.keras.activations.relu(Z1)\n",
        "\n",
        "  #print(A1.shape, W2.shape, b2.shape)\n",
        "  Z2 = tf.math.add(tf.linalg.matmul(A1, W2), b2)\n",
        "  A2 = tf.keras.activations.relu(Z2)\n",
        "\n",
        "  Z3 = tf.math.add(tf.linalg.matmul(A2, W3), b3)\n",
        "  A3 = tf.keras.activations.softmax(Z3)\n",
        "  \n",
        "  return A3\n",
        "\n",
        "def cost(preds, labels):\n",
        "\n",
        "  # tf.keras.categorical_crossentropy expects both preds and lables of shape \n",
        "  # (num_samples, num_classes)\n",
        "  cost = tf.reduce_mean(tf.keras.losses.categorical_crossentropy(labels, preds))\n",
        "\n",
        "  return cost"
      ],
      "metadata": {
        "id": "8z6jfCRf0bdm"
      },
      "execution_count": 321,
      "outputs": []
    },
    {
      "cell_type": "code",
      "source": [
        "def modeling(X_train, Y_train, lr=0.0001):\n",
        "\n",
        "  # optimizer - Adam\n",
        "  optimizer = tf.keras.optimizers.SGD(lr)\n",
        "  \n",
        "  i = 9\n",
        "\n",
        "  X = X_train[i * 108: (i + 1) * 108, :]\n",
        "  Y = Y_train[i * 108: (i + 1) * 108]\n",
        "\n",
        "  with tf.GradientTape() as tape:\n",
        "    A3 = forward(X, parameters)\n",
        "    minibatch_cost = cost(A3, Y)\n",
        "\n",
        "  print(f'i = {i} : cost = {minibatch_cost}')\n",
        "\n",
        "  # print(f'Minibatch cost was: {minibatch_cost}')\n",
        "  trainable = parameters.values()\n",
        "\n",
        "  # back propagation\n",
        "  grads = tape.gradient(minibatch_cost, trainable)\n",
        "  optimizer.apply_gradients(zip(grads, trainable))\n",
        "\n",
        "  return parameters"
      ],
      "metadata": {
        "id": "glYSZasS07CL"
      },
      "execution_count": 413,
      "outputs": []
    },
    {
      "cell_type": "code",
      "source": [
        "man_W1_old = np.copy(parameters['W1'])\n",
        "parameters = modeling(tf.squeeze(X_train_old), tf.one_hot(y_train_old, depth=6))\n",
        "man_W1_new = np.copy(parameters['W1'])"
      ],
      "metadata": {
        "colab": {
          "base_uri": "https://localhost:8080/"
        },
        "id": "SykXJgFI1SQu",
        "outputId": "bb1876ee-e614-4430-fce3-ddfbc2dfa8bb"
      },
      "execution_count": 414,
      "outputs": [
        {
          "output_type": "stream",
          "name": "stdout",
          "text": [
            "i = 9 : cost = 1.9321264028549194\n"
          ]
        }
      ]
    },
    {
      "cell_type": "markdown",
      "source": [
        "## Comparing "
      ],
      "metadata": {
        "id": "sObdPavAhNKD"
      }
    },
    {
      "cell_type": "code",
      "source": [
        "tf_W1_old"
      ],
      "metadata": {
        "colab": {
          "base_uri": "https://localhost:8080/"
        },
        "id": "QGYRfUEYhPqh",
        "outputId": "09f0a15b-a579-467f-fac4-4d4bb13f4e3e"
      },
      "execution_count": 416,
      "outputs": [
        {
          "output_type": "execute_result",
          "data": {
            "text/plain": [
              "array([[ 0.00199481, -0.01617088, -0.00210474, ...,  0.00400415,\n",
              "        -0.00541233,  0.01953882],\n",
              "       [-0.00774924, -0.01985233,  0.00654225, ...,  0.01703717,\n",
              "         0.00904857, -0.02190093],\n",
              "       [-0.01986766, -0.00848458,  0.00357587, ..., -0.01890617,\n",
              "        -0.0158468 ,  0.01421347],\n",
              "       ...,\n",
              "       [-0.01084893,  0.00037564, -0.02203674, ..., -0.00582635,\n",
              "        -0.01651511,  0.00841468],\n",
              "       [-0.01125521, -0.00640606,  0.00845467, ..., -0.0018795 ,\n",
              "        -0.01937845, -0.00609643],\n",
              "       [ 0.01956861, -0.00456034,  0.00275667, ..., -0.00196295,\n",
              "         0.0200613 ,  0.0011325 ]], dtype=float32)"
            ]
          },
          "metadata": {},
          "execution_count": 416
        }
      ]
    },
    {
      "cell_type": "code",
      "source": [
        "man_W1_old"
      ],
      "metadata": {
        "colab": {
          "base_uri": "https://localhost:8080/"
        },
        "id": "YLG2UOwPhTVa",
        "outputId": "52a9a523-2bc4-425d-a89f-6f94190ba56e"
      },
      "execution_count": 417,
      "outputs": [
        {
          "output_type": "execute_result",
          "data": {
            "text/plain": [
              "array([[ 0.00199481, -0.01617088, -0.00210474, ...,  0.00400415,\n",
              "        -0.00541233,  0.01953882],\n",
              "       [-0.00774924, -0.01985233,  0.00654225, ...,  0.01703717,\n",
              "         0.00904857, -0.02190093],\n",
              "       [-0.01986766, -0.00848458,  0.00357587, ..., -0.01890617,\n",
              "        -0.0158468 ,  0.01421347],\n",
              "       ...,\n",
              "       [-0.01084893,  0.00037564, -0.02203674, ..., -0.00582635,\n",
              "        -0.01651511,  0.00841468],\n",
              "       [-0.01125521, -0.00640606,  0.00845467, ..., -0.0018795 ,\n",
              "        -0.01937845, -0.00609643],\n",
              "       [ 0.01956861, -0.00456034,  0.00275667, ..., -0.00196295,\n",
              "         0.0200613 ,  0.0011325 ]], dtype=float32)"
            ]
          },
          "metadata": {},
          "execution_count": 417
        }
      ]
    },
    {
      "cell_type": "code",
      "source": [
        "tf_W1_new"
      ],
      "metadata": {
        "colab": {
          "base_uri": "https://localhost:8080/"
        },
        "id": "7_WUTtSMiYlV",
        "outputId": "96e2960b-fcc1-4ea0-cb9c-483ac7e47d24"
      },
      "execution_count": 426,
      "outputs": [
        {
          "output_type": "execute_result",
          "data": {
            "text/plain": [
              "array([[ 0.00199546, -0.01616882, -0.00210474, ...,  0.00400415,\n",
              "        -0.00541233,  0.01953681],\n",
              "       [-0.00774861, -0.01985034,  0.00654225, ...,  0.01703717,\n",
              "         0.00904857, -0.02190286],\n",
              "       [-0.01986707, -0.00848269,  0.00357587, ..., -0.01890617,\n",
              "        -0.0158468 ,  0.01421161],\n",
              "       ...,\n",
              "       [-0.01084851,  0.00037761, -0.02203674, ..., -0.00582635,\n",
              "        -0.01651511,  0.00841307],\n",
              "       [-0.01125483, -0.00640414,  0.00845467, ..., -0.0018795 ,\n",
              "        -0.01937845, -0.006098  ],\n",
              "       [ 0.01956898, -0.00455849,  0.00275667, ..., -0.00196295,\n",
              "         0.0200613 ,  0.00113094]], dtype=float32)"
            ]
          },
          "metadata": {},
          "execution_count": 426
        }
      ]
    },
    {
      "cell_type": "code",
      "source": [
        "man_W1_new"
      ],
      "metadata": {
        "colab": {
          "base_uri": "https://localhost:8080/"
        },
        "id": "NIhAVGafiaQ0",
        "outputId": "39e9737a-b1ce-4e05-b49d-8cfeb992e275"
      },
      "execution_count": 419,
      "outputs": [
        {
          "output_type": "execute_result",
          "data": {
            "text/plain": [
              "array([[ 0.00199481, -0.01617111, -0.00210474, ...,  0.00400415,\n",
              "        -0.00541233,  0.01953697],\n",
              "       [-0.00774923, -0.01985255,  0.00654225, ...,  0.01703717,\n",
              "         0.00904857, -0.02190271],\n",
              "       [-0.01986765, -0.00848482,  0.00357587, ..., -0.01890617,\n",
              "        -0.0158468 ,  0.01421176],\n",
              "       ...,\n",
              "       [-0.01084906,  0.00037577, -0.02203674, ..., -0.00582635,\n",
              "        -0.01651511,  0.00841326],\n",
              "       [-0.01125535, -0.00640587,  0.00845467, ..., -0.0018795 ,\n",
              "        -0.01937845, -0.00609775],\n",
              "       [ 0.01956847, -0.00456012,  0.00275667, ..., -0.00196295,\n",
              "         0.0200613 ,  0.00113124]], dtype=float32)"
            ]
          },
          "metadata": {},
          "execution_count": 419
        }
      ]
    },
    {
      "cell_type": "code",
      "source": [
        "(tf_W1_new - man_W_new)[(tf_W1_new - man_W_new) != 0].max()"
      ],
      "metadata": {
        "id": "O0gfQLhsGGqP",
        "outputId": "2847ba9c-b597-482a-82d8-ec80197cfd3b",
        "colab": {
          "base_uri": "https://localhost:8080/"
        }
      },
      "execution_count": 440,
      "outputs": [
        {
          "output_type": "execute_result",
          "data": {
            "text/plain": [
              "0.00013424084"
            ]
          },
          "metadata": {},
          "execution_count": 440
        }
      ]
    },
    {
      "cell_type": "code",
      "source": [
        "np.abs((tf_W1_old - tf_W1_new) / 0.0001 - (man_W1_old - man_W1_new) / 0.0001).max()"
      ],
      "metadata": {
        "colab": {
          "base_uri": "https://localhost:8080/"
        },
        "id": "JSotQ6sMmgdF",
        "outputId": "17d79e72-4ded-428e-fa42-ba5d661bb3e9"
      },
      "execution_count": 428,
      "outputs": [
        {
          "output_type": "execute_result",
          "data": {
            "text/plain": [
              "0.508558"
            ]
          },
          "metadata": {},
          "execution_count": 428
        }
      ]
    },
    {
      "cell_type": "markdown",
      "source": [
        "### Entire batch"
      ],
      "metadata": {
        "id": "u-kLY5SmJ2a4"
      }
    },
    {
      "cell_type": "code",
      "source": [
        "def modeling1(X_train, Y_train, lr=0.0001):\n",
        "  \n",
        "  costs = 0\n",
        "\n",
        "  # optimizer - Adam\n",
        "  optimizer = tf.keras.optimizers.SGD(lr)\n",
        "  \n",
        "  for i in range(10):\n",
        "  #i = 2\n",
        "\n",
        "    X = X_train[i * 108: (i + 1) * 108, :]\n",
        "    Y = Y_train[i * 108: (i + 1) * 108]\n",
        "\n",
        "    with tf.GradientTape() as tape:\n",
        "      A3 = forward(X, params1)\n",
        "      minibatch_cost = cost(A3, Y)\n",
        "\n",
        "    # print(f'i = {i} : cost = {minibatch_cost}')\n",
        "    costs += minibatch_cost\n",
        "    # print(f'Minibatch cost was: {minibatch_cost}')\n",
        "    trainable = params1.values()\n",
        "\n",
        "    # back propagation\n",
        "    grads = tape.gradient(minibatch_cost, trainable)\n",
        "    optimizer.apply_gradients(zip(grads, trainable))\n",
        "\n",
        "  costs /= 10\n",
        "  # print(f'Cost : {costs}')\n",
        "\n",
        "  return params1"
      ],
      "metadata": {
        "id": "BCi71yJZKFJW"
      },
      "execution_count": 445,
      "outputs": []
    },
    {
      "cell_type": "code",
      "source": [
        "for i in range(50):\n",
        "\n",
        "  man_W_old = np.copy(params1['W1'])\n",
        "  params1 = modeling1(tf.squeeze(X_train_old), tf.one_hot(y_train_old, depth=6))\n",
        "  man_W_new = np.copy(params1['W1'])"
      ],
      "metadata": {
        "id": "-GhNwA8yKPRY"
      },
      "execution_count": null,
      "outputs": []
    },
    {
      "cell_type": "code",
      "source": [
        "man_W_old"
      ],
      "metadata": {
        "id": "I-dQVWrlKkgh",
        "outputId": "cb443c67-6441-4bdc-a3c2-ddadb69cc915",
        "colab": {
          "base_uri": "https://localhost:8080/"
        }
      },
      "execution_count": 330,
      "outputs": [
        {
          "output_type": "execute_result",
          "data": {
            "text/plain": [
              "array([[ 0.00199581, -0.01617085, -0.00210474, ...,  0.00400415,\n",
              "        -0.00541233,  0.01954625],\n",
              "       [-0.00774827, -0.01985236,  0.00654225, ...,  0.01703717,\n",
              "         0.00904857, -0.02189378],\n",
              "       [-0.01986675, -0.00848466,  0.00357587, ..., -0.01890617,\n",
              "        -0.0158468 ,  0.0142203 ],\n",
              "       ...,\n",
              "       [-0.01084797,  0.00037441, -0.02203674, ..., -0.00582635,\n",
              "        -0.01651511,  0.00842013],\n",
              "       [-0.01125425, -0.00640712,  0.00845467, ..., -0.0018795 ,\n",
              "        -0.01937845, -0.00609114],\n",
              "       [ 0.01956955, -0.00456122,  0.00275667, ..., -0.00196295,\n",
              "         0.0200613 ,  0.00113762]], dtype=float32)"
            ]
          },
          "metadata": {},
          "execution_count": 330
        }
      ]
    },
    {
      "cell_type": "code",
      "source": [
        "man_W_new"
      ],
      "metadata": {
        "id": "fHXHQOTbKnLo",
        "outputId": "c5fd8bfa-9ab5-4a1a-cc77-ce54aebfd19d",
        "colab": {
          "base_uri": "https://localhost:8080/"
        }
      },
      "execution_count": 331,
      "outputs": [
        {
          "output_type": "execute_result",
          "data": {
            "text/plain": [
              "array([[ 0.00199481, -0.01617111, -0.00210474, ...,  0.00400415,\n",
              "        -0.00541233,  0.01953697],\n",
              "       [-0.00774923, -0.01985255,  0.00654225, ...,  0.01703717,\n",
              "         0.00904857, -0.02190271],\n",
              "       [-0.01986765, -0.00848482,  0.00357587, ..., -0.01890617,\n",
              "        -0.0158468 ,  0.01421176],\n",
              "       ...,\n",
              "       [-0.01084906,  0.00037577, -0.02203674, ..., -0.00582635,\n",
              "        -0.01651511,  0.00841326],\n",
              "       [-0.01125535, -0.00640587,  0.00845467, ..., -0.0018795 ,\n",
              "        -0.01937845, -0.00609775],\n",
              "       [ 0.01956847, -0.00456012,  0.00275667, ..., -0.00196295,\n",
              "         0.0200613 ,  0.00113124]], dtype=float32)"
            ]
          },
          "metadata": {},
          "execution_count": 331
        }
      ]
    },
    {
      "cell_type": "code",
      "source": [
        "for i in range(50):\n",
        "\n",
        "  history = model.fit(\n",
        "      x=X_train_old,\n",
        "      y=y_train_old,\n",
        "      batch_size=108,\n",
        "      epochs=1,\n",
        "      verbose=0\n",
        "  )\n",
        "\n",
        "  W1, b1 = model.layers[1].get_weights()\n",
        "  tf_W1_new = np.copy(W1)\n",
        "\n",
        "  params1 = modeling1(tf.squeeze(X_train_old), tf.one_hot(y_train_old, depth=6))\n",
        "  man_W_new = np.copy(params1['W1'])\n",
        "\n",
        "  print(f'epoch {i + 1}: {(tf_W1_new - man_W_new)[(tf_W1_new - man_W_new) != 0].max()}')"
      ],
      "metadata": {
        "id": "CCBbaiMEYC57",
        "outputId": "a8c3b2b9-539c-452a-820e-6b41b304010b",
        "colab": {
          "base_uri": "https://localhost:8080/"
        }
      },
      "execution_count": 458,
      "outputs": [
        {
          "output_type": "stream",
          "name": "stdout",
          "text": [
            "epoch 1: 2.518296241760254e-06\n",
            "epoch 2: 4.0084123611450195e-06\n",
            "epoch 3: 4.759058356285095e-06\n",
            "epoch 4: 5.817040801048279e-06\n",
            "epoch 5: 6.089452654123306e-06\n",
            "epoch 6: 7.158145308494568e-06\n",
            "epoch 7: 7.4356794357299805e-06\n",
            "epoch 8: 7.599592208862305e-06\n",
            "epoch 9: 7.377937436103821e-06\n",
            "epoch 10: 8.473172783851624e-06\n",
            "epoch 11: 7.778406143188477e-06\n",
            "epoch 12: 8.005648851394653e-06\n",
            "epoch 13: 1.046992838382721e-05\n",
            "epoch 14: 9.931623935699463e-06\n",
            "epoch 15: 9.642913937568665e-06\n",
            "epoch 16: 9.859912097454071e-06\n",
            "epoch 17: 1.0007992386817932e-05\n",
            "epoch 18: 1.0370276868343353e-05\n",
            "epoch 19: 1.2023374438285828e-05\n",
            "epoch 20: 1.3644807040691376e-05\n",
            "epoch 21: 1.5050172805786133e-05\n",
            "epoch 22: 1.6191042959690094e-05\n",
            "epoch 23: 1.7605721950531006e-05\n",
            "epoch 24: 1.9249506294727325e-05\n",
            "epoch 25: 2.0483508706092834e-05\n",
            "epoch 26: 2.1696090698242188e-05\n",
            "epoch 27: 2.4549663066864014e-05\n",
            "epoch 28: 2.7369707822799683e-05\n",
            "epoch 29: 3.0489638447761536e-05\n",
            "epoch 30: 3.325752913951874e-05\n",
            "epoch 31: 3.5159289836883545e-05\n",
            "epoch 32: 3.805384039878845e-05\n",
            "epoch 33: 4.0804967284202576e-05\n",
            "epoch 34: 4.3781474232673645e-05\n",
            "epoch 35: 4.632584750652313e-05\n",
            "epoch 36: 4.857778549194336e-05\n",
            "epoch 37: 4.99822199344635e-05\n",
            "epoch 38: 5.229376256465912e-05\n",
            "epoch 39: 5.5606476962566376e-05\n",
            "epoch 40: 6.0227932408452034e-05\n",
            "epoch 41: 6.414833478629589e-05\n",
            "epoch 42: 6.820331327617168e-05\n",
            "epoch 43: 7.234676741063595e-05\n",
            "epoch 44: 7.644342258572578e-05\n",
            "epoch 45: 8.069491013884544e-05\n",
            "epoch 46: 8.53491947054863e-05\n",
            "epoch 47: 9.189266711473465e-05\n",
            "epoch 48: 9.837187826633453e-05\n",
            "epoch 49: 0.00010460056364536285\n",
            "epoch 50: 0.00011076591908931732\n"
          ]
        }
      ]
    },
    {
      "cell_type": "markdown",
      "source": [
        "## Saving model"
      ],
      "metadata": {
        "id": "2QjRfP_1APF8"
      }
    },
    {
      "cell_type": "markdown",
      "source": [
        "The SavedModel format (default)"
      ],
      "metadata": {
        "id": "MLMveavnAT-H"
      }
    },
    {
      "cell_type": "code",
      "source": [
        "model.save('/content/drive/MyDrive/HandSigns/SavedModel_format')"
      ],
      "metadata": {
        "colab": {
          "base_uri": "https://localhost:8080/"
        },
        "id": "c3ri2xQp-0xz",
        "outputId": "9ddde0cf-d202-421d-f89b-d78386c0f5d5"
      },
      "execution_count": null,
      "outputs": [
        {
          "output_type": "stream",
          "name": "stdout",
          "text": [
            "INFO:tensorflow:Assets written to: /content/drive/MyDrive/HandSigns/SavedModel_format/assets\n"
          ]
        }
      ]
    },
    {
      "cell_type": "code",
      "source": [
        "!ls /content/drive/MyDrive/HandSigns/SavedModel_format"
      ],
      "metadata": {
        "colab": {
          "base_uri": "https://localhost:8080/"
        },
        "id": "xl3M-kPMAg9D",
        "outputId": "065398ca-9259-49c7-f647-11fdcbe01711"
      },
      "execution_count": null,
      "outputs": [
        {
          "output_type": "stream",
          "name": "stdout",
          "text": [
            "assets\tkeras_metadata.pb  saved_model.pb  variables\n"
          ]
        }
      ]
    },
    {
      "cell_type": "markdown",
      "source": [
        "The **HDF5** format"
      ],
      "metadata": {
        "id": "xyOkTYJzApRR"
      }
    },
    {
      "cell_type": "code",
      "source": [
        "model.save('/content/drive/MyDrive/HandSigns/saved_model.h5')"
      ],
      "metadata": {
        "id": "et2HOPJMAltx"
      },
      "execution_count": null,
      "outputs": []
    },
    {
      "cell_type": "code",
      "source": [
        "!ls /content/drive/MyDrive/HandSigns/"
      ],
      "metadata": {
        "colab": {
          "base_uri": "https://localhost:8080/"
        },
        "id": "WfZwl67BA98G",
        "outputId": "074f9e79-12a6-4077-e4ca-9bba955e2425"
      },
      "execution_count": null,
      "outputs": [
        {
          "output_type": "stream",
          "name": "stdout",
          "text": [
            "SavedModel_format  saved_model.h5  test_signs.h5  train_signs.h5\n"
          ]
        }
      ]
    },
    {
      "cell_type": "markdown",
      "source": [
        "## Loading model"
      ],
      "metadata": {
        "id": "IXNrvVuHBILL"
      }
    },
    {
      "cell_type": "code",
      "source": [
        "loaded_model = tf.keras.models.load_model(\"/content/drive/MyDrive/HandSigns/SavedModel_format\")\n",
        "loaded_model.summary()"
      ],
      "metadata": {
        "colab": {
          "base_uri": "https://localhost:8080/"
        },
        "id": "vm2GvD13BEuL",
        "outputId": "d60315b1-1edd-4896-b8a3-04bee6c3f271"
      },
      "execution_count": null,
      "outputs": [
        {
          "output_type": "stream",
          "name": "stdout",
          "text": [
            "Model: \"sequential_1\"\n",
            "_________________________________________________________________\n",
            " Layer (type)                Output Shape              Param #   \n",
            "=================================================================\n",
            " dense_3 (Dense)             (None, 25)                307225    \n",
            "                                                                 \n",
            " dense_4 (Dense)             (None, 12)                312       \n",
            "                                                                 \n",
            " dense_5 (Dense)             (None, 6)                 78        \n",
            "                                                                 \n",
            "=================================================================\n",
            "Total params: 307,615\n",
            "Trainable params: 307,615\n",
            "Non-trainable params: 0\n",
            "_________________________________________________________________\n"
          ]
        }
      ]
    },
    {
      "cell_type": "code",
      "source": [
        "loaded_model = tf.keras.models.load_model(\"/content/drive/MyDrive/HandSigns/saved_model.h5\")\n",
        "loaded_model.summary()"
      ],
      "metadata": {
        "colab": {
          "base_uri": "https://localhost:8080/"
        },
        "id": "C-VNCPuMBRGP",
        "outputId": "b1284693-099a-4232-fd97-c7ebc378d406"
      },
      "execution_count": null,
      "outputs": [
        {
          "output_type": "stream",
          "name": "stdout",
          "text": [
            "Model: \"sequential_1\"\n",
            "_________________________________________________________________\n",
            " Layer (type)                Output Shape              Param #   \n",
            "=================================================================\n",
            " dense_3 (Dense)             (None, 25)                307225    \n",
            "                                                                 \n",
            " dense_4 (Dense)             (None, 12)                312       \n",
            "                                                                 \n",
            " dense_5 (Dense)             (None, 6)                 78        \n",
            "                                                                 \n",
            "=================================================================\n",
            "Total params: 307,615\n",
            "Trainable params: 307,615\n",
            "Non-trainable params: 0\n",
            "_________________________________________________________________\n"
          ]
        }
      ]
    },
    {
      "cell_type": "code",
      "source": [
        ""
      ],
      "metadata": {
        "id": "DAGYJqd8BWcd"
      },
      "execution_count": null,
      "outputs": []
    }
  ]
}