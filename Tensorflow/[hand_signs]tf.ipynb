{
  "nbformat": 4,
  "nbformat_minor": 0,
  "metadata": {
    "colab": {
      "name": "[hand_signs]tf.ipynb",
      "provenance": [],
      "collapsed_sections": [],
      "authorship_tag": "ABX9TyNUNB7/M1YPaTcWNtoxuEd+",
      "include_colab_link": true
    },
    "kernelspec": {
      "name": "python3",
      "display_name": "Python 3"
    },
    "language_info": {
      "name": "python"
    },
    "accelerator": "GPU",
    "gpuClass": "standard"
  },
  "cells": [
    {
      "cell_type": "markdown",
      "metadata": {
        "id": "view-in-github",
        "colab_type": "text"
      },
      "source": [
        "<a href=\"https://colab.research.google.com/github/neuralsrg/SupervisedLearning/blob/main/Tensorflow/%5Bhand_signs%5Dtf.ipynb\" target=\"_parent\"><img src=\"https://colab.research.google.com/assets/colab-badge.svg\" alt=\"Open In Colab\"/></a>"
      ]
    },
    {
      "cell_type": "markdown",
      "source": [
        "# Creating the same Neural Net (as in tf_manual_nn) using tf functions"
      ],
      "metadata": {
        "id": "zvsjIHeBSzYD"
      }
    },
    {
      "cell_type": "code",
      "execution_count": 1,
      "metadata": {
        "id": "h5k78fFKSjSw"
      },
      "outputs": [],
      "source": [
        "import tensorflow as tf\n",
        "import numpy as np\n",
        "import matplotlib.pyplot as plt"
      ]
    },
    {
      "cell_type": "code",
      "source": [
        "from google.colab import drive\n",
        "drive.mount('/content/drive')"
      ],
      "metadata": {
        "colab": {
          "base_uri": "https://localhost:8080/"
        },
        "id": "_4rH2_K3b_kl",
        "outputId": "5612a387-00ed-4fdd-c11a-1102a32b8776"
      },
      "execution_count": 2,
      "outputs": [
        {
          "output_type": "stream",
          "name": "stdout",
          "text": [
            "Drive already mounted at /content/drive; to attempt to forcibly remount, call drive.mount(\"/content/drive\", force_remount=True).\n"
          ]
        }
      ]
    },
    {
      "cell_type": "markdown",
      "source": [
        "## Dataset"
      ],
      "metadata": {
        "id": "s5oOxTsXb9vI"
      }
    },
    {
      "cell_type": "code",
      "source": [
        "import h5py\n",
        "\n",
        "train_dataset = h5py.File('/content/drive/MyDrive/HandSigns/train_signs.h5', \"r\")\n",
        "test_dataset = h5py.File('/content/drive/MyDrive/HandSigns/test_signs.h5', \"r\")"
      ],
      "metadata": {
        "id": "zJ4KMb71cFdu"
      },
      "execution_count": 3,
      "outputs": []
    },
    {
      "cell_type": "code",
      "source": [
        "x_train_fromh5 = tf.data.Dataset.from_tensor_slices(train_dataset['train_set_x'])\n",
        "y_train_fromh5 = tf.data.Dataset.from_tensor_slices(train_dataset['train_set_y'])\n",
        "\n",
        "x_test_fromh5 = tf.data.Dataset.from_tensor_slices(test_dataset['test_set_x'])\n",
        "y_test_fromh5 = tf.data.Dataset.from_tensor_slices(test_dataset['test_set_y'])"
      ],
      "metadata": {
        "id": "Z9Wjemq4cO-G"
      },
      "execution_count": 4,
      "outputs": []
    },
    {
      "cell_type": "code",
      "source": [
        "# X\n",
        "\n",
        "@tf.function\n",
        "def normalize(image):\n",
        "  image = tf.cast(image, tf.float32) / 255.0\n",
        "  image = tf.reshape(image, [1, -1])\n",
        "  \n",
        "  return image"
      ],
      "metadata": {
        "id": "bLqwQiUwcVRz"
      },
      "execution_count": 5,
      "outputs": []
    },
    {
      "cell_type": "code",
      "source": [
        "norm_train = x_train_fromh5.map(normalize)\n",
        "norm_test = x_test_fromh5.map(normalize)"
      ],
      "metadata": {
        "id": "SUY7GNEVcXjW"
      },
      "execution_count": 6,
      "outputs": []
    },
    {
      "cell_type": "code",
      "source": [
        "# y\n",
        "\n",
        "@tf.function\n",
        "def one_hot(label, depth=6):\n",
        "  return tf.reshape(tf.one_hot(label, depth, axis=0), [1, depth])"
      ],
      "metadata": {
        "id": "HkWQBaypiQ28"
      },
      "execution_count": 7,
      "outputs": []
    },
    {
      "cell_type": "code",
      "source": [
        "# norm_y_train = y_train_fromh5.map(one_hot)\n",
        "# norm_y_test = y_test_fromh5.map(one_hot)\n",
        "\n",
        "norm_y_train = y_train_fromh5\n",
        "norm_y_test = y_test_fromh5"
      ],
      "metadata": {
        "id": "Q-v6Nje8inLn"
      },
      "execution_count": 8,
      "outputs": []
    },
    {
      "cell_type": "code",
      "source": [
        "# using tf datasets\n",
        "\n",
        "train_dataset = tf.data.Dataset.zip((norm_train, norm_y_train))\n",
        "test_dataset = tf.data.Dataset.zip((norm_test, norm_y_test))"
      ],
      "metadata": {
        "id": "7_5ZKOsndaR_"
      },
      "execution_count": 9,
      "outputs": []
    },
    {
      "cell_type": "code",
      "source": [
        "# using tensors\n",
        "\n",
        "X_train = tf.squeeze(tf.constant(list(norm_train.as_numpy_iterator())))\n",
        "X_test = tf.squeeze(tf.constant(list(norm_test.as_numpy_iterator())))\n",
        "\n",
        "y_train = tf.squeeze(tf.constant(list(norm_y_train.as_numpy_iterator())))\n",
        "y_test = tf.squeeze(tf.constant(list(norm_y_test.as_numpy_iterator())))"
      ],
      "metadata": {
        "id": "D0B_7fp-wSpf"
      },
      "execution_count": 10,
      "outputs": []
    },
    {
      "cell_type": "markdown",
      "source": [
        "## Model"
      ],
      "metadata": {
        "id": "W7qtY0v2TAPf"
      }
    },
    {
      "cell_type": "code",
      "source": [
        "tf.random.set_seed(32)\n",
        "\n",
        "model = tf.keras.models.Sequential()\n",
        "model.add(tf.keras.Input(shape=(64*64*3)))\n",
        "model.add(tf.keras.layers.Dense(25,\n",
        "                                activation='relu',\n",
        "                                kernel_initializer='glorot_uniform'))\n",
        "model.add(tf.keras.layers.Dense(12,\n",
        "                                activation='relu',\n",
        "                                kernel_initializer='glorot_uniform'))\n",
        "model.add(tf.keras.layers.Dense(6,\n",
        "                                activation='softmax',\n",
        "                                kernel_initializer='glorot_uniform'))\n",
        "\n",
        "model.output_shape"
      ],
      "metadata": {
        "colab": {
          "base_uri": "https://localhost:8080/"
        },
        "id": "i9XaBXHrSyYk",
        "outputId": "5b5cb36c-76c1-45f0-db1d-f7b702156c08"
      },
      "execution_count": 16,
      "outputs": [
        {
          "output_type": "execute_result",
          "data": {
            "text/plain": [
              "(None, 6)"
            ]
          },
          "metadata": {},
          "execution_count": 16
        }
      ]
    },
    {
      "cell_type": "code",
      "source": [
        "model.compile(\n",
        "    optimizer=tf.keras.optimizers.Adam(learning_rate=0.001),\n",
        "    loss=tf.keras.losses.SparseCategoricalCrossentropy(),\n",
        "    metrics=['accuracy']\n",
        ")\n",
        "\n",
        "'''\n",
        "    When you pass the strings 'accuracy' or 'acc', we convert this to one of\n",
        "    tf.keras.metrics.BinaryAccuracy, tf.keras.metrics.CategoricalAccuracy,\n",
        "    tf.keras.metrics.SparseCategoricalAccuracy based on the loss function used\n",
        "    and the model output shape.\n",
        "    We do a similar conversion for the strings 'crossentropy' and 'ce' as well.\n",
        "'''"
      ],
      "metadata": {
        "colab": {
          "base_uri": "https://localhost:8080/",
          "height": 70
        },
        "id": "jCUwmMw6W8Af",
        "outputId": "b58c48cd-f0c9-4037-85c7-d3f47dcb2c2d"
      },
      "execution_count": 17,
      "outputs": [
        {
          "output_type": "execute_result",
          "data": {
            "text/plain": [
              "\"\\n    When you pass the strings 'accuracy' or 'acc', we convert this to one of\\n    tf.keras.metrics.BinaryAccuracy, tf.keras.metrics.CategoricalAccuracy,\\n    tf.keras.metrics.SparseCategoricalAccuracy based on the loss function used\\n    and the model output shape.\\n    We do a similar conversion for the strings 'crossentropy' and 'ce' as well.\\n\""
            ],
            "application/vnd.google.colaboratory.intrinsic+json": {
              "type": "string"
            }
          },
          "metadata": {},
          "execution_count": 17
        }
      ]
    },
    {
      "cell_type": "code",
      "source": [
        "model.summary()"
      ],
      "metadata": {
        "colab": {
          "base_uri": "https://localhost:8080/"
        },
        "id": "6gfg1JPEcy18",
        "outputId": "a5012bd4-de4f-45b2-8ff0-a18a318f7c8e"
      },
      "execution_count": 18,
      "outputs": [
        {
          "output_type": "stream",
          "name": "stdout",
          "text": [
            "Model: \"sequential_1\"\n",
            "_________________________________________________________________\n",
            " Layer (type)                Output Shape              Param #   \n",
            "=================================================================\n",
            " dense_3 (Dense)             (None, 25)                307225    \n",
            "                                                                 \n",
            " dense_4 (Dense)             (None, 12)                312       \n",
            "                                                                 \n",
            " dense_5 (Dense)             (None, 6)                 78        \n",
            "                                                                 \n",
            "=================================================================\n",
            "Total params: 307,615\n",
            "Trainable params: 307,615\n",
            "Non-trainable params: 0\n",
            "_________________________________________________________________\n"
          ]
        }
      ]
    },
    {
      "cell_type": "markdown",
      "source": [
        "## fit"
      ],
      "metadata": {
        "id": "YjB9U_ZGd7T0"
      }
    },
    {
      "cell_type": "code",
      "source": [
        "model.fit(\n",
        "    x=X_train,\n",
        "    y=y_train,\n",
        "    batch_size=32,\n",
        "    epochs=50,\n",
        "    verbose=0\n",
        ")"
      ],
      "metadata": {
        "colab": {
          "base_uri": "https://localhost:8080/"
        },
        "id": "pXtyMVeExseR",
        "outputId": "d73c4830-697a-4c42-8112-ff852f56f2d1"
      },
      "execution_count": 19,
      "outputs": [
        {
          "output_type": "execute_result",
          "data": {
            "text/plain": [
              "<keras.callbacks.History at 0x7fa0b86f7810>"
            ]
          },
          "metadata": {},
          "execution_count": 19
        }
      ]
    },
    {
      "cell_type": "code",
      "source": [
        "model.predict(X_train)"
      ],
      "metadata": {
        "colab": {
          "base_uri": "https://localhost:8080/"
        },
        "id": "YgqStMLv_m3L",
        "outputId": "0bd86ae4-e5c8-4b98-9cdf-9e962f8d7931"
      },
      "execution_count": 20,
      "outputs": [
        {
          "output_type": "execute_result",
          "data": {
            "text/plain": [
              "array([[0.16668142, 0.16667841, 0.16659278, 0.16677713, 0.16671322,\n",
              "        0.16655704],\n",
              "       [0.16668142, 0.16667841, 0.16659278, 0.16677713, 0.16671322,\n",
              "        0.16655704],\n",
              "       [0.16668142, 0.16667841, 0.16659278, 0.16677713, 0.16671322,\n",
              "        0.16655704],\n",
              "       ...,\n",
              "       [0.16668142, 0.16667841, 0.16659278, 0.16677713, 0.16671322,\n",
              "        0.16655704],\n",
              "       [0.16668142, 0.16667841, 0.16659278, 0.16677713, 0.16671322,\n",
              "        0.16655704],\n",
              "       [0.16668142, 0.16667841, 0.16659278, 0.16677713, 0.16671322,\n",
              "        0.16655704]], dtype=float32)"
            ]
          },
          "metadata": {},
          "execution_count": 20
        }
      ]
    },
    {
      "cell_type": "code",
      "source": [
        "y_train"
      ],
      "metadata": {
        "colab": {
          "base_uri": "https://localhost:8080/"
        },
        "id": "iPKMQu0T8AJ-",
        "outputId": "a240cb98-0588-457c-a716-1ddc46d87760"
      },
      "execution_count": 59,
      "outputs": [
        {
          "output_type": "execute_result",
          "data": {
            "text/plain": [
              "<tf.Tensor: shape=(1080, 6), dtype=float32, numpy=\n",
              "array([[0., 0., 0., 0., 0., 1.],\n",
              "       [1., 0., 0., 0., 0., 0.],\n",
              "       [0., 0., 1., 0., 0., 0.],\n",
              "       ...,\n",
              "       [0., 0., 1., 0., 0., 0.],\n",
              "       [0., 0., 0., 0., 1., 0.],\n",
              "       [0., 0., 0., 0., 0., 1.]], dtype=float32)>"
            ]
          },
          "metadata": {},
          "execution_count": 59
        }
      ]
    },
    {
      "cell_type": "code",
      "source": [
        "model.fit(\n",
        "    x=train_dataset, # y is already in train_dataset\n",
        "    batch_size=32,\n",
        "    epochs=100,\n",
        "    verbose=1\n",
        "    # validation_split=0.2 train_dataset.cardinality().numpy() == 1080\n",
        "    # shuffle=True\n",
        ")"
      ],
      "metadata": {
        "id": "pY7oVRSWc3TF"
      },
      "execution_count": null,
      "outputs": []
    },
    {
      "cell_type": "code",
      "source": [
        "train_dataset.cardinality().numpy()"
      ],
      "metadata": {
        "colab": {
          "base_uri": "https://localhost:8080/"
        },
        "id": "fsSMo3HUfZvN",
        "outputId": "02d18d19-720a-410b-fadc-9e2b095aabcb"
      },
      "execution_count": 13,
      "outputs": [
        {
          "output_type": "execute_result",
          "data": {
            "text/plain": [
              "1080"
            ]
          },
          "metadata": {},
          "execution_count": 13
        }
      ]
    },
    {
      "cell_type": "code",
      "source": [
        "from tensorflow.keras.utils import plot_model\n",
        "\n",
        "plot_model(model, show_shapes=True)"
      ],
      "metadata": {
        "colab": {
          "base_uri": "https://localhost:8080/",
          "height": 422
        },
        "id": "Vv8yofApfePL",
        "outputId": "7c499052-650b-445f-c515-d6ce01330854"
      },
      "execution_count": 15,
      "outputs": [
        {
          "output_type": "execute_result",
          "data": {
            "text/plain": [
              "<IPython.core.display.Image object>"
            ],
            "image/png": "[encoded data removed]"
          },
          "metadata": {},
          "execution_count": 15
        }
      ]
    },
    {
      "cell_type": "markdown",
      "source": [
        "## Saving model"
      ],
      "metadata": {
        "id": "2QjRfP_1APF8"
      }
    },
    {
      "cell_type": "markdown",
      "source": [
        "The SavedModel format (default)"
      ],
      "metadata": {
        "id": "MLMveavnAT-H"
      }
    },
    {
      "cell_type": "code",
      "source": [
        "model.save('/content/drive/MyDrive/HandSigns/SavedModel_format')"
      ],
      "metadata": {
        "colab": {
          "base_uri": "https://localhost:8080/"
        },
        "id": "c3ri2xQp-0xz",
        "outputId": "9ddde0cf-d202-421d-f89b-d78386c0f5d5"
      },
      "execution_count": 21,
      "outputs": [
        {
          "output_type": "stream",
          "name": "stdout",
          "text": [
            "INFO:tensorflow:Assets written to: /content/drive/MyDrive/HandSigns/SavedModel_format/assets\n"
          ]
        }
      ]
    },
    {
      "cell_type": "code",
      "source": [
        "!ls /content/drive/MyDrive/HandSigns/SavedModel_format"
      ],
      "metadata": {
        "colab": {
          "base_uri": "https://localhost:8080/"
        },
        "id": "xl3M-kPMAg9D",
        "outputId": "065398ca-9259-49c7-f647-11fdcbe01711"
      },
      "execution_count": 22,
      "outputs": [
        {
          "output_type": "stream",
          "name": "stdout",
          "text": [
            "assets\tkeras_metadata.pb  saved_model.pb  variables\n"
          ]
        }
      ]
    },
    {
      "cell_type": "markdown",
      "source": [
        "The **HDF5** format"
      ],
      "metadata": {
        "id": "xyOkTYJzApRR"
      }
    },
    {
      "cell_type": "code",
      "source": [
        "model.save('/content/drive/MyDrive/HandSigns/saved_model.h5')"
      ],
      "metadata": {
        "id": "et2HOPJMAltx"
      },
      "execution_count": 23,
      "outputs": []
    },
    {
      "cell_type": "code",
      "source": [
        "!ls /content/drive/MyDrive/HandSigns/"
      ],
      "metadata": {
        "colab": {
          "base_uri": "https://localhost:8080/"
        },
        "id": "WfZwl67BA98G",
        "outputId": "074f9e79-12a6-4077-e4ca-9bba955e2425"
      },
      "execution_count": 24,
      "outputs": [
        {
          "output_type": "stream",
          "name": "stdout",
          "text": [
            "SavedModel_format  saved_model.h5  test_signs.h5  train_signs.h5\n"
          ]
        }
      ]
    },
    {
      "cell_type": "markdown",
      "source": [
        "## Loading model"
      ],
      "metadata": {
        "id": "IXNrvVuHBILL"
      }
    },
    {
      "cell_type": "code",
      "source": [
        "loaded_model = tf.keras.models.load_model(\"/content/drive/MyDrive/HandSigns/SavedModel_format\")\n",
        "loaded_model.summary()"
      ],
      "metadata": {
        "colab": {
          "base_uri": "https://localhost:8080/"
        },
        "id": "vm2GvD13BEuL",
        "outputId": "d60315b1-1edd-4896-b8a3-04bee6c3f271"
      },
      "execution_count": 25,
      "outputs": [
        {
          "output_type": "stream",
          "name": "stdout",
          "text": [
            "Model: \"sequential_1\"\n",
            "_________________________________________________________________\n",
            " Layer (type)                Output Shape              Param #   \n",
            "=================================================================\n",
            " dense_3 (Dense)             (None, 25)                307225    \n",
            "                                                                 \n",
            " dense_4 (Dense)             (None, 12)                312       \n",
            "                                                                 \n",
            " dense_5 (Dense)             (None, 6)                 78        \n",
            "                                                                 \n",
            "=================================================================\n",
            "Total params: 307,615\n",
            "Trainable params: 307,615\n",
            "Non-trainable params: 0\n",
            "_________________________________________________________________\n"
          ]
        }
      ]
    },
    {
      "cell_type": "code",
      "source": [
        "loaded_model = tf.keras.models.load_model(\"/content/drive/MyDrive/HandSigns/saved_model.h5\")\n",
        "loaded_model.summary()"
      ],
      "metadata": {
        "colab": {
          "base_uri": "https://localhost:8080/"
        },
        "id": "C-VNCPuMBRGP",
        "outputId": "b1284693-099a-4232-fd97-c7ebc378d406"
      },
      "execution_count": 26,
      "outputs": [
        {
          "output_type": "stream",
          "name": "stdout",
          "text": [
            "Model: \"sequential_1\"\n",
            "_________________________________________________________________\n",
            " Layer (type)                Output Shape              Param #   \n",
            "=================================================================\n",
            " dense_3 (Dense)             (None, 25)                307225    \n",
            "                                                                 \n",
            " dense_4 (Dense)             (None, 12)                312       \n",
            "                                                                 \n",
            " dense_5 (Dense)             (None, 6)                 78        \n",
            "                                                                 \n",
            "=================================================================\n",
            "Total params: 307,615\n",
            "Trainable params: 307,615\n",
            "Non-trainable params: 0\n",
            "_________________________________________________________________\n"
          ]
        }
      ]
    },
    {
      "cell_type": "code",
      "source": [
        ""
      ],
      "metadata": {
        "id": "DAGYJqd8BWcd"
      },
      "execution_count": null,
      "outputs": []
    }
  ]
}