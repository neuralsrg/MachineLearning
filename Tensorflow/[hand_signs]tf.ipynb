{
  "nbformat": 4,
  "nbformat_minor": 0,
  "metadata": {
    "colab": {
      "name": "[hand_signs]tf.ipynb",
      "provenance": [],
      "collapsed_sections": [],
      "toc_visible": true,
      "authorship_tag": "ABX9TyPvM97mpUCbbUifoEOqgsZI",
      "include_colab_link": true
    },
    "kernelspec": {
      "name": "python3",
      "display_name": "Python 3"
    },
    "language_info": {
      "name": "python"
    },
    "gpuClass": "standard"
  },
  "cells": [
    {
      "cell_type": "markdown",
      "metadata": {
        "id": "view-in-github",
        "colab_type": "text"
      },
      "source": [
        "<a href=\"https://colab.research.google.com/github/neuralsrg/SupervisedLearning/blob/main/Tensorflow/%5Bhand_signs%5Dtf.ipynb\" target=\"_parent\"><img src=\"https://colab.research.google.com/assets/colab-badge.svg\" alt=\"Open In Colab\"/></a>"
      ]
    },
    {
      "cell_type": "markdown",
      "source": [
        "# Creating the same Neural Net (as in tf_manual_nn) using tf functions"
      ],
      "metadata": {
        "id": "zvsjIHeBSzYD"
      }
    },
    {
      "cell_type": "code",
      "execution_count": 1,
      "metadata": {
        "id": "h5k78fFKSjSw"
      },
      "outputs": [],
      "source": [
        "import tensorflow as tf\n",
        "import numpy as np\n",
        "import matplotlib.pyplot as plt"
      ]
    },
    {
      "cell_type": "code",
      "source": [
        "from google.colab import drive\n",
        "drive.mount('/content/drive')"
      ],
      "metadata": {
        "colab": {
          "base_uri": "https://localhost:8080/"
        },
        "id": "_4rH2_K3b_kl",
        "outputId": "41566bdf-6450-439c-f18d-f3b4c5a5c70c"
      },
      "execution_count": 2,
      "outputs": [
        {
          "output_type": "stream",
          "name": "stdout",
          "text": [
            "Mounted at /content/drive\n"
          ]
        }
      ]
    },
    {
      "cell_type": "markdown",
      "source": [
        "## Dataset"
      ],
      "metadata": {
        "id": "s5oOxTsXb9vI"
      }
    },
    {
      "cell_type": "code",
      "source": [
        "import h5py\n",
        "\n",
        "train_dataset = h5py.File('/content/drive/MyDrive/HandSigns/train_signs.h5', \"r\")\n",
        "test_dataset = h5py.File('/content/drive/MyDrive/HandSigns/test_signs.h5', \"r\")"
      ],
      "metadata": {
        "id": "zJ4KMb71cFdu"
      },
      "execution_count": 3,
      "outputs": []
    },
    {
      "cell_type": "code",
      "source": [
        "X_train_old = np.array(train_dataset['train_set_x']).reshape(-1, 64 * 64 * 3) / 255.\n",
        "X_test_old = np.array(test_dataset['test_set_x']).reshape(-1, 64 * 64 * 3) / 255.\n",
        "y_train_old = np.array(train_dataset['train_set_y'])\n",
        "y_test_old = np.array(test_dataset['test_set_y'])\n",
        "\n",
        "X_train_old = X_train_old.reshape(-1, 1, 64*64*3)\n",
        "X_test_old = X_test_old.reshape(-1, 1, 64*64*3)\n",
        "\n",
        "X_train_old = X_train_old[0].reshape(1, 1, -1)\n",
        "y_train_old = np.array([y_train_old[0]])\n",
        "\n",
        "X_train_old = tf.cast(tf.constant(X_train_old), dtype=tf.float32)\n",
        "y_train_old = tf.constant(y_train_old)"
      ],
      "metadata": {
        "id": "CrOxFLm0eeZp"
      },
      "execution_count": 94,
      "outputs": []
    },
    {
      "cell_type": "code",
      "source": [
        "X_train_old.shape"
      ],
      "metadata": {
        "colab": {
          "base_uri": "https://localhost:8080/"
        },
        "id": "qRhUAZ_cygpj",
        "outputId": "f4b3e6fc-c546-4809-b98a-ad8d912ac8b0"
      },
      "execution_count": 95,
      "outputs": [
        {
          "output_type": "execute_result",
          "data": {
            "text/plain": [
              "TensorShape([1, 1, 12288])"
            ]
          },
          "metadata": {},
          "execution_count": 95
        }
      ]
    },
    {
      "cell_type": "markdown",
      "source": [
        "## Model"
      ],
      "metadata": {
        "id": "W7qtY0v2TAPf"
      }
    },
    {
      "cell_type": "code",
      "source": [
        "tf.random.set_seed(32)\n",
        "\n",
        "model = tf.keras.models.Sequential()\n",
        "model.add(tf.keras.layers.Flatten())\n",
        "model.add(tf.keras.layers.Dense(25,\n",
        "                                activation='relu',\n",
        "                                kernel_initializer='glorot_uniform'))\n",
        "model.add(tf.keras.layers.Dense(12,\n",
        "                                activation='relu',\n",
        "                                kernel_initializer='glorot_uniform'))\n",
        "model.add(tf.keras.layers.Dense(6,\n",
        "                                activation='softmax',\n",
        "                                kernel_initializer='glorot_uniform'))\n",
        "\n",
        "model.compile(\n",
        "    optimizer=tf.keras.optimizers.SGD(learning_rate=0.0001),\n",
        "    loss = tf.keras.losses.SparseCategoricalCrossentropy(from_logits=False),\n",
        "    metrics=['accuracy']\n",
        ")"
      ],
      "metadata": {
        "id": "yUUsSL9GcQg2"
      },
      "execution_count": 106,
      "outputs": []
    },
    {
      "cell_type": "code",
      "source": [
        "model(X_train_old)#.reshape(-1, 1, 64*64*3))\n",
        "model.summary()"
      ],
      "metadata": {
        "colab": {
          "base_uri": "https://localhost:8080/"
        },
        "id": "GJjpSuyklZ_g",
        "outputId": "ea1dc706-5933-4433-8b23-274f36c3d1db"
      },
      "execution_count": 107,
      "outputs": [
        {
          "output_type": "stream",
          "name": "stdout",
          "text": [
            "Model: \"sequential_6\"\n",
            "_________________________________________________________________\n",
            " Layer (type)                Output Shape              Param #   \n",
            "=================================================================\n",
            " flatten_6 (Flatten)         (1, 12288)                0         \n",
            "                                                                 \n",
            " dense_18 (Dense)            (1, 25)                   307225    \n",
            "                                                                 \n",
            " dense_19 (Dense)            (1, 12)                   312       \n",
            "                                                                 \n",
            " dense_20 (Dense)            (1, 6)                    78        \n",
            "                                                                 \n",
            "=================================================================\n",
            "Total params: 307,615\n",
            "Trainable params: 307,615\n",
            "Non-trainable params: 0\n",
            "_________________________________________________________________\n"
          ]
        }
      ]
    },
    {
      "cell_type": "code",
      "source": [
        "# parameters\n",
        "\n",
        "W1, b1 = model.layers[1].get_weights()\n",
        "tf_W1_old = np.copy(W1)\n",
        "W1 = tf.Variable(W1)\n",
        "b1 = tf.Variable(b1.reshape(1, -1))\n",
        "\n",
        "W2, b2 = model.layers[2].get_weights()\n",
        "W2 = tf.Variable(W2)\n",
        "b2 = tf.Variable(b2.reshape(1, -1))\n",
        "\n",
        "W3, b3 = model.layers[3].get_weights()\n",
        "W3 = tf.Variable(W3)\n",
        "b3 = tf.Variable(b3.reshape(1, -1))\n",
        "\n",
        "parameters = {\n",
        "    'W1' : W1,\n",
        "    'b1' : b1,\n",
        "    'W2' : W2,\n",
        "    'b2' : b2,\n",
        "    'W3' : W3,\n",
        "    'b3' : b3,\n",
        "}"
      ],
      "metadata": {
        "id": "ExZHPzCmxsv2"
      },
      "execution_count": 108,
      "outputs": []
    },
    {
      "cell_type": "markdown",
      "source": [
        "## Training"
      ],
      "metadata": {
        "id": "qbDrk2e_dX2r"
      }
    },
    {
      "cell_type": "code",
      "source": [
        "# lr_scheduler = tf.keras.callbacks.LearningRateScheduler(lambda epoch: 1e-4 * 0.99**(epoch))\n",
        "\n",
        "history = model.fit(\n",
        "    x=X_train_old,#.reshape(-1, 1, 64*64*3),\n",
        "    y=y_train_old,\n",
        "    batch_size=1,\n",
        "    epochs=1,\n",
        "    verbose=1\n",
        ")"
      ],
      "metadata": {
        "colab": {
          "base_uri": "https://localhost:8080/"
        },
        "id": "j7GU0ErUcZE1",
        "outputId": "94156863-4fb1-4a55-de78-ed85339cd44a"
      },
      "execution_count": 109,
      "outputs": [
        {
          "output_type": "stream",
          "name": "stdout",
          "text": [
            "1/1 [==============================] - 0s 324ms/step - loss: 1.8720 - accuracy: 0.0000e+00\n"
          ]
        }
      ]
    },
    {
      "cell_type": "code",
      "source": [
        "W1, b1 = model.layers[1].get_weights()\n",
        "tf_W1_new = np.copy(W1)"
      ],
      "metadata": {
        "id": "Bm7WpJpvg7xa"
      },
      "execution_count": 110,
      "outputs": []
    },
    {
      "cell_type": "markdown",
      "source": [
        "## Manual"
      ],
      "metadata": {
        "id": "mAXqGHXZxogc"
      }
    },
    {
      "cell_type": "code",
      "source": [
        "train_dataset = h5py.File('/content/drive/MyDrive/HandSigns/train_signs.h5', \"r\")\n",
        "test_dataset = h5py.File('/content/drive/MyDrive/HandSigns/test_signs.h5', \"r\")\n",
        "\n",
        "x_train = tf.data.Dataset.from_tensor_slices(train_dataset['train_set_x'])\n",
        "y_train = tf.data.Dataset.from_tensor_slices(train_dataset['train_set_y'])\n",
        "\n",
        "x_test = tf.data.Dataset.from_tensor_slices(test_dataset['test_set_x'])\n",
        "y_test = tf.data.Dataset.from_tensor_slices(test_dataset['test_set_y'])\n",
        "\n",
        "def normalize(image):\n",
        "  image = tf.cast(image, tf.float32) / 255.0\n",
        "  image = tf.reshape(image, [-1, ])\n",
        "  \n",
        "  return image\n",
        "\n",
        "norm_train = x_train.map(normalize)\n",
        "norm_test = x_test.map(normalize)\n",
        "\n",
        "def one_hot(label, depth=6):\n",
        "  return tf.reshape(tf.one_hot(label, depth, axis=0), [1, depth])\n",
        "\n",
        "norm_y_train = y_train.map(one_hot)\n",
        "norm_y_test = y_test.map(one_hot)\n",
        "\n",
        "def forward(X, parameters):\n",
        "\n",
        "  W1 = parameters['W1']\n",
        "  b1 = parameters['b1']\n",
        "  W2 = parameters['W2']\n",
        "  b2 = parameters['b2']\n",
        "  W3 = parameters['W3']\n",
        "  b3 = parameters['b3']\n",
        "\n",
        "  #print(X.shape, W1.shape, b1.shape)\n",
        "  Z1 = tf.math.add(tf.linalg.matmul(X, W1), b1)\n",
        "  A1 = tf.keras.activations.relu(Z1)\n",
        "\n",
        "  #print(A1.shape, W2.shape, b2.shape)\n",
        "  Z2 = tf.math.add(tf.linalg.matmul(A1, W2), b2)\n",
        "  A2 = tf.keras.activations.relu(Z2)\n",
        "\n",
        "  Z3 = tf.math.add(tf.linalg.matmul(A2, W3), b3)\n",
        "  A3 = tf.keras.activations.softmax(Z3)\n",
        "  \n",
        "  return A3\n",
        "\n",
        "def cost(preds, labels):\n",
        "\n",
        "  # tf.keras.categorical_crossentropy expects both preds and lables of shape \n",
        "  # (num_samples, num_classes)\n",
        "  cost = tf.reduce_mean(tf.keras.losses.categorical_crossentropy(labels, preds))\n",
        "\n",
        "  return cost"
      ],
      "metadata": {
        "id": "8z6jfCRf0bdm"
      },
      "execution_count": 93,
      "outputs": []
    },
    {
      "cell_type": "code",
      "source": [
        "def modeling(X_train, Y_train, lr=0.0001):\n",
        "  \n",
        "  # optimizer - Adam\n",
        "  optimizer = tf.keras.optimizers.SGD(lr)\n",
        "\n",
        "  with tf.GradientTape() as tape:\n",
        "    A3 = forward(X_train, parameters)\n",
        "    minibatch_cost = cost(A3, Y_train)\n",
        "\n",
        "  print(f'Minibatch cost was: {minibatch_cost}')\n",
        "\n",
        "  trainable = parameters.values()\n",
        "\n",
        "  # back propagation\n",
        "  grads = tape.gradient(minibatch_cost, trainable)\n",
        "  optimizer.apply_gradients(zip(grads, trainable))\n",
        "\n",
        "  return parameters"
      ],
      "metadata": {
        "id": "glYSZasS07CL"
      },
      "execution_count": 85,
      "outputs": []
    },
    {
      "cell_type": "code",
      "source": [
        "man_W1_old = np.copy(parameters['W1'])\n",
        "parameters = modeling(tf.reshape(X_train_old, shape=(1, -1)), one_hot(y_train_old))\n",
        "man_W1_new = np.copy(parameters['W1'])"
      ],
      "metadata": {
        "colab": {
          "base_uri": "https://localhost:8080/"
        },
        "id": "SykXJgFI1SQu",
        "outputId": "5f3b159a-933e-456d-ece5-9b60aae31556"
      },
      "execution_count": 111,
      "outputs": [
        {
          "output_type": "stream",
          "name": "stdout",
          "text": [
            "Minibatch cost was: 1.8720366954803467\n"
          ]
        }
      ]
    },
    {
      "cell_type": "markdown",
      "source": [
        "## Comparing "
      ],
      "metadata": {
        "id": "sObdPavAhNKD"
      }
    },
    {
      "cell_type": "code",
      "source": [
        "tf_W1_old"
      ],
      "metadata": {
        "colab": {
          "base_uri": "https://localhost:8080/"
        },
        "id": "QGYRfUEYhPqh",
        "outputId": "2db8bf11-0e67-49fa-c334-882eeb30272c"
      },
      "execution_count": 112,
      "outputs": [
        {
          "output_type": "execute_result",
          "data": {
            "text/plain": [
              "array([[ 0.00199581, -0.01617085, -0.00210474, ...,  0.00400415,\n",
              "        -0.00541233,  0.01954625],\n",
              "       [-0.00774827, -0.01985236,  0.00654225, ...,  0.01703717,\n",
              "         0.00904857, -0.02189378],\n",
              "       [-0.01986675, -0.00848466,  0.00357587, ..., -0.01890617,\n",
              "        -0.0158468 ,  0.0142203 ],\n",
              "       ...,\n",
              "       [-0.01084797,  0.00037441, -0.02203674, ..., -0.00582635,\n",
              "        -0.01651511,  0.00842013],\n",
              "       [-0.01125425, -0.00640712,  0.00845467, ..., -0.0018795 ,\n",
              "        -0.01937845, -0.00609114],\n",
              "       [ 0.01956955, -0.00456122,  0.00275667, ..., -0.00196295,\n",
              "         0.0200613 ,  0.00113762]], dtype=float32)"
            ]
          },
          "metadata": {},
          "execution_count": 112
        }
      ]
    },
    {
      "cell_type": "code",
      "source": [
        "man_W1_old"
      ],
      "metadata": {
        "colab": {
          "base_uri": "https://localhost:8080/"
        },
        "id": "YLG2UOwPhTVa",
        "outputId": "f0393f3a-0d41-4adc-f353-6babf94b28c3"
      },
      "execution_count": 113,
      "outputs": [
        {
          "output_type": "execute_result",
          "data": {
            "text/plain": [
              "array([[ 0.00199581, -0.01617085, -0.00210474, ...,  0.00400415,\n",
              "        -0.00541233,  0.01954625],\n",
              "       [-0.00774827, -0.01985236,  0.00654225, ...,  0.01703717,\n",
              "         0.00904857, -0.02189378],\n",
              "       [-0.01986675, -0.00848466,  0.00357587, ..., -0.01890617,\n",
              "        -0.0158468 ,  0.0142203 ],\n",
              "       ...,\n",
              "       [-0.01084797,  0.00037441, -0.02203674, ..., -0.00582635,\n",
              "        -0.01651511,  0.00842013],\n",
              "       [-0.01125425, -0.00640712,  0.00845467, ..., -0.0018795 ,\n",
              "        -0.01937845, -0.00609114],\n",
              "       [ 0.01956955, -0.00456122,  0.00275667, ..., -0.00196295,\n",
              "         0.0200613 ,  0.00113762]], dtype=float32)"
            ]
          },
          "metadata": {},
          "execution_count": 113
        }
      ]
    },
    {
      "cell_type": "code",
      "source": [
        "tf_W1_new"
      ],
      "metadata": {
        "colab": {
          "base_uri": "https://localhost:8080/"
        },
        "id": "7_WUTtSMiYlV",
        "outputId": "71a54bd9-c777-4fcf-db7d-c9388ec1f422"
      },
      "execution_count": 114,
      "outputs": [
        {
          "output_type": "execute_result",
          "data": {
            "text/plain": [
              "array([[ 0.00200175, -0.01617463, -0.00210474, ...,  0.00400415,\n",
              "        -0.00541233,  0.01954631],\n",
              "       [-0.00774251, -0.01985603,  0.00654225, ...,  0.01703717,\n",
              "         0.00904857, -0.02189372],\n",
              "       [-0.01986115, -0.00848823,  0.00357587, ..., -0.01890617,\n",
              "        -0.0158468 ,  0.01422036],\n",
              "       ...,\n",
              "       [-0.01084253,  0.00037094, -0.02203674, ..., -0.00582635,\n",
              "        -0.01651511,  0.00842018],\n",
              "       [-0.01124877, -0.0064106 ,  0.00845467, ..., -0.0018795 ,\n",
              "        -0.01937845, -0.00609108],\n",
              "       [ 0.01957503, -0.0045647 ,  0.00275667, ..., -0.00196295,\n",
              "         0.0200613 ,  0.00113768]], dtype=float32)"
            ]
          },
          "metadata": {},
          "execution_count": 114
        }
      ]
    },
    {
      "cell_type": "code",
      "source": [
        "man_W1_new"
      ],
      "metadata": {
        "colab": {
          "base_uri": "https://localhost:8080/"
        },
        "id": "NIhAVGafiaQ0",
        "outputId": "1036f4e5-f97f-4b0b-e0cc-c613a38fdc6c"
      },
      "execution_count": 115,
      "outputs": [
        {
          "output_type": "execute_result",
          "data": {
            "text/plain": [
              "array([[ 0.00200175, -0.01617463, -0.00210474, ...,  0.00400415,\n",
              "        -0.00541233,  0.01954631],\n",
              "       [-0.00774251, -0.01985603,  0.00654225, ...,  0.01703717,\n",
              "         0.00904857, -0.02189372],\n",
              "       [-0.01986115, -0.00848823,  0.00357587, ..., -0.01890617,\n",
              "        -0.0158468 ,  0.01422036],\n",
              "       ...,\n",
              "       [-0.01084253,  0.00037094, -0.02203674, ..., -0.00582635,\n",
              "        -0.01651511,  0.00842018],\n",
              "       [-0.01124877, -0.0064106 ,  0.00845467, ..., -0.0018795 ,\n",
              "        -0.01937845, -0.00609108],\n",
              "       [ 0.01957503, -0.0045647 ,  0.00275667, ..., -0.00196295,\n",
              "         0.0200613 ,  0.00113768]], dtype=float32)"
            ]
          },
          "metadata": {},
          "execution_count": 115
        }
      ]
    },
    {
      "cell_type": "code",
      "source": [
        "np.count_nonzero((tf_W1_old - tf_W1_new) / 0.0001 != (man_W1_old - man_W1_new) / 0.0001)"
      ],
      "metadata": {
        "colab": {
          "base_uri": "https://localhost:8080/"
        },
        "id": "JSotQ6sMmgdF",
        "outputId": "b8104f82-eeab-4711-a1b5-ddc8b5946a41"
      },
      "execution_count": 120,
      "outputs": [
        {
          "output_type": "execute_result",
          "data": {
            "text/plain": [
              "0"
            ]
          },
          "metadata": {},
          "execution_count": 120
        }
      ]
    },
    {
      "cell_type": "markdown",
      "source": [
        "## Saving model"
      ],
      "metadata": {
        "id": "2QjRfP_1APF8"
      }
    },
    {
      "cell_type": "markdown",
      "source": [
        "The SavedModel format (default)"
      ],
      "metadata": {
        "id": "MLMveavnAT-H"
      }
    },
    {
      "cell_type": "code",
      "source": [
        "model.save('/content/drive/MyDrive/HandSigns/SavedModel_format')"
      ],
      "metadata": {
        "colab": {
          "base_uri": "https://localhost:8080/"
        },
        "id": "c3ri2xQp-0xz",
        "outputId": "9ddde0cf-d202-421d-f89b-d78386c0f5d5"
      },
      "execution_count": null,
      "outputs": [
        {
          "output_type": "stream",
          "name": "stdout",
          "text": [
            "INFO:tensorflow:Assets written to: /content/drive/MyDrive/HandSigns/SavedModel_format/assets\n"
          ]
        }
      ]
    },
    {
      "cell_type": "code",
      "source": [
        "!ls /content/drive/MyDrive/HandSigns/SavedModel_format"
      ],
      "metadata": {
        "colab": {
          "base_uri": "https://localhost:8080/"
        },
        "id": "xl3M-kPMAg9D",
        "outputId": "065398ca-9259-49c7-f647-11fdcbe01711"
      },
      "execution_count": null,
      "outputs": [
        {
          "output_type": "stream",
          "name": "stdout",
          "text": [
            "assets\tkeras_metadata.pb  saved_model.pb  variables\n"
          ]
        }
      ]
    },
    {
      "cell_type": "markdown",
      "source": [
        "The **HDF5** format"
      ],
      "metadata": {
        "id": "xyOkTYJzApRR"
      }
    },
    {
      "cell_type": "code",
      "source": [
        "model.save('/content/drive/MyDrive/HandSigns/saved_model.h5')"
      ],
      "metadata": {
        "id": "et2HOPJMAltx"
      },
      "execution_count": null,
      "outputs": []
    },
    {
      "cell_type": "code",
      "source": [
        "!ls /content/drive/MyDrive/HandSigns/"
      ],
      "metadata": {
        "colab": {
          "base_uri": "https://localhost:8080/"
        },
        "id": "WfZwl67BA98G",
        "outputId": "074f9e79-12a6-4077-e4ca-9bba955e2425"
      },
      "execution_count": null,
      "outputs": [
        {
          "output_type": "stream",
          "name": "stdout",
          "text": [
            "SavedModel_format  saved_model.h5  test_signs.h5  train_signs.h5\n"
          ]
        }
      ]
    },
    {
      "cell_type": "markdown",
      "source": [
        "## Loading model"
      ],
      "metadata": {
        "id": "IXNrvVuHBILL"
      }
    },
    {
      "cell_type": "code",
      "source": [
        "loaded_model = tf.keras.models.load_model(\"/content/drive/MyDrive/HandSigns/SavedModel_format\")\n",
        "loaded_model.summary()"
      ],
      "metadata": {
        "colab": {
          "base_uri": "https://localhost:8080/"
        },
        "id": "vm2GvD13BEuL",
        "outputId": "d60315b1-1edd-4896-b8a3-04bee6c3f271"
      },
      "execution_count": null,
      "outputs": [
        {
          "output_type": "stream",
          "name": "stdout",
          "text": [
            "Model: \"sequential_1\"\n",
            "_________________________________________________________________\n",
            " Layer (type)                Output Shape              Param #   \n",
            "=================================================================\n",
            " dense_3 (Dense)             (None, 25)                307225    \n",
            "                                                                 \n",
            " dense_4 (Dense)             (None, 12)                312       \n",
            "                                                                 \n",
            " dense_5 (Dense)             (None, 6)                 78        \n",
            "                                                                 \n",
            "=================================================================\n",
            "Total params: 307,615\n",
            "Trainable params: 307,615\n",
            "Non-trainable params: 0\n",
            "_________________________________________________________________\n"
          ]
        }
      ]
    },
    {
      "cell_type": "code",
      "source": [
        "loaded_model = tf.keras.models.load_model(\"/content/drive/MyDrive/HandSigns/saved_model.h5\")\n",
        "loaded_model.summary()"
      ],
      "metadata": {
        "colab": {
          "base_uri": "https://localhost:8080/"
        },
        "id": "C-VNCPuMBRGP",
        "outputId": "b1284693-099a-4232-fd97-c7ebc378d406"
      },
      "execution_count": null,
      "outputs": [
        {
          "output_type": "stream",
          "name": "stdout",
          "text": [
            "Model: \"sequential_1\"\n",
            "_________________________________________________________________\n",
            " Layer (type)                Output Shape              Param #   \n",
            "=================================================================\n",
            " dense_3 (Dense)             (None, 25)                307225    \n",
            "                                                                 \n",
            " dense_4 (Dense)             (None, 12)                312       \n",
            "                                                                 \n",
            " dense_5 (Dense)             (None, 6)                 78        \n",
            "                                                                 \n",
            "=================================================================\n",
            "Total params: 307,615\n",
            "Trainable params: 307,615\n",
            "Non-trainable params: 0\n",
            "_________________________________________________________________\n"
          ]
        }
      ]
    },
    {
      "cell_type": "code",
      "source": [
        ""
      ],
      "metadata": {
        "id": "DAGYJqd8BWcd"
      },
      "execution_count": null,
      "outputs": []
    }
  ]
}